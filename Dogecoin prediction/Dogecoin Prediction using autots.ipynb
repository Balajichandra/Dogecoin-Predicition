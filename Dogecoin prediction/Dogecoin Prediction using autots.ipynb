{
 "cells": [
  {
   "cell_type": "code",
   "execution_count": 1,
   "id": "642a0ead",
   "metadata": {},
   "outputs": [],
   "source": [
    "#importing libraries\n",
    "import numpy as np\n",
    "import pandas as pd\n",
    "import matplotlib.pyplot as plt\n",
    "import seaborn as sns"
   ]
  },
  {
   "cell_type": "code",
   "execution_count": 2,
   "id": "53aaa727",
   "metadata": {},
   "outputs": [
    {
     "data": {
      "text/html": [
       "<div>\n",
       "<style scoped>\n",
       "    .dataframe tbody tr th:only-of-type {\n",
       "        vertical-align: middle;\n",
       "    }\n",
       "\n",
       "    .dataframe tbody tr th {\n",
       "        vertical-align: top;\n",
       "    }\n",
       "\n",
       "    .dataframe thead th {\n",
       "        text-align: right;\n",
       "    }\n",
       "</style>\n",
       "<table border=\"1\" class=\"dataframe\">\n",
       "  <thead>\n",
       "    <tr style=\"text-align: right;\">\n",
       "      <th></th>\n",
       "      <th>Date</th>\n",
       "      <th>Open</th>\n",
       "      <th>High</th>\n",
       "      <th>Low</th>\n",
       "      <th>Close</th>\n",
       "      <th>Adj Close</th>\n",
       "      <th>Volume</th>\n",
       "    </tr>\n",
       "  </thead>\n",
       "  <tbody>\n",
       "    <tr>\n",
       "      <th>0</th>\n",
       "      <td>2020-06-16</td>\n",
       "      <td>0.002479</td>\n",
       "      <td>0.002530</td>\n",
       "      <td>0.002434</td>\n",
       "      <td>0.002487</td>\n",
       "      <td>0.002487</td>\n",
       "      <td>196212619.0</td>\n",
       "    </tr>\n",
       "    <tr>\n",
       "      <th>1</th>\n",
       "      <td>2020-06-17</td>\n",
       "      <td>0.002490</td>\n",
       "      <td>0.002492</td>\n",
       "      <td>0.002458</td>\n",
       "      <td>0.002485</td>\n",
       "      <td>0.002485</td>\n",
       "      <td>185083517.0</td>\n",
       "    </tr>\n",
       "    <tr>\n",
       "      <th>2</th>\n",
       "      <td>2020-06-18</td>\n",
       "      <td>0.002485</td>\n",
       "      <td>0.002493</td>\n",
       "      <td>0.002447</td>\n",
       "      <td>0.002472</td>\n",
       "      <td>0.002472</td>\n",
       "      <td>171388606.0</td>\n",
       "    </tr>\n",
       "    <tr>\n",
       "      <th>3</th>\n",
       "      <td>2020-06-19</td>\n",
       "      <td>0.002471</td>\n",
       "      <td>0.002472</td>\n",
       "      <td>0.002430</td>\n",
       "      <td>0.002435</td>\n",
       "      <td>0.002435</td>\n",
       "      <td>173280984.0</td>\n",
       "    </tr>\n",
       "    <tr>\n",
       "      <th>4</th>\n",
       "      <td>2020-06-20</td>\n",
       "      <td>0.002435</td>\n",
       "      <td>0.002466</td>\n",
       "      <td>0.002419</td>\n",
       "      <td>0.002447</td>\n",
       "      <td>0.002447</td>\n",
       "      <td>158275082.0</td>\n",
       "    </tr>\n",
       "  </tbody>\n",
       "</table>\n",
       "</div>"
      ],
      "text/plain": [
       "         Date      Open      High       Low     Close  Adj Close       Volume\n",
       "0  2020-06-16  0.002479  0.002530  0.002434  0.002487   0.002487  196212619.0\n",
       "1  2020-06-17  0.002490  0.002492  0.002458  0.002485   0.002485  185083517.0\n",
       "2  2020-06-18  0.002485  0.002493  0.002447  0.002472   0.002472  171388606.0\n",
       "3  2020-06-19  0.002471  0.002472  0.002430  0.002435   0.002435  173280984.0\n",
       "4  2020-06-20  0.002435  0.002466  0.002419  0.002447   0.002447  158275082.0"
      ]
     },
     "execution_count": 2,
     "metadata": {},
     "output_type": "execute_result"
    }
   ],
   "source": [
    "data = pd.read_csv('DOGE-USD.csv')\n",
    "data.head(5)"
   ]
  },
  {
   "cell_type": "code",
   "execution_count": 3,
   "id": "3b0af251",
   "metadata": {},
   "outputs": [
    {
     "data": {
      "text/plain": [
       "(366, 7)"
      ]
     },
     "execution_count": 3,
     "metadata": {},
     "output_type": "execute_result"
    }
   ],
   "source": [
    "data.shape"
   ]
  },
  {
   "cell_type": "code",
   "execution_count": 4,
   "id": "383e7829",
   "metadata": {},
   "outputs": [
    {
     "data": {
      "image/png": "[encoded data removed]",
      "text/plain": [
       "<Figure size 720x288 with 1 Axes>"
      ]
     },
     "metadata": {
      "needs_background": "light"
     },
     "output_type": "display_data"
    }
   ],
   "source": [
    "#close price graph\n",
    "data.dropna()\n",
    "plt.figure(figsize=(10,4))\n",
    "plt.title(\"Dogecoin Price USD\")\n",
    "plt.xlabel(\"Date\")\n",
    "plt.ylabel(\"Close\")\n",
    "plt.plot(data[\"Close\"])\n",
    "plt.show()"
   ]
  },
  {
   "cell_type": "code",
   "execution_count": 5,
   "id": "5488a941",
   "metadata": {},
   "outputs": [
    {
     "name": "stdout",
     "output_type": "stream",
     "text": [
      "Collecting autots\n",
      "  Downloading AutoTS-0.3.1-py3-none-any.whl (390 kB)\n",
      "Requirement already satisfied: pandas>=0.25.* in c:\\programdata\\anaconda3\\lib\\site-packages (from autots) (1.2.4)\n",
      "Requirement already satisfied: statsmodels>=0.10.* in c:\\programdata\\anaconda3\\lib\\site-packages (from autots) (0.12.2)\n",
      "Requirement already satisfied: scikit-learn>=0.20.* in c:\\programdata\\anaconda3\\lib\\site-packages (from autots) (0.24.1)\n",
      "Requirement already satisfied: numpy>=1.14.6 in c:\\programdata\\anaconda3\\lib\\site-packages (from autots) (1.20.1)\n",
      "Requirement already satisfied: python-dateutil>=2.7.3 in c:\\programdata\\anaconda3\\lib\\site-packages (from pandas>=0.25.*->autots) (2.8.1)\n",
      "Requirement already satisfied: pytz>=2017.3 in c:\\programdata\\anaconda3\\lib\\site-packages (from pandas>=0.25.*->autots) (2021.1)\n",
      "Requirement already satisfied: six>=1.5 in c:\\programdata\\anaconda3\\lib\\site-packages (from python-dateutil>=2.7.3->pandas>=0.25.*->autots) (1.15.0)\n",
      "Requirement already satisfied: scipy>=0.19.1 in c:\\programdata\\anaconda3\\lib\\site-packages (from scikit-learn>=0.20.*->autots) (1.6.2)\n",
      "Requirement already satisfied: threadpoolctl>=2.0.0 in c:\\programdata\\anaconda3\\lib\\site-packages (from scikit-learn>=0.20.*->autots) (2.1.0)\n",
      "Requirement already satisfied: joblib>=0.11 in c:\\programdata\\anaconda3\\lib\\site-packages (from scikit-learn>=0.20.*->autots) (1.0.1)\n",
      "Requirement already satisfied: patsy>=0.5 in c:\\programdata\\anaconda3\\lib\\site-packages (from statsmodels>=0.10.*->autots) (0.5.1)\n",
      "Installing collected packages: autots\n",
      "Successfully installed autots-0.3.1\n"
     ]
    }
   ],
   "source": [
    "!pip install autots"
   ]
  },
  {
   "cell_type": "code",
   "execution_count": 6,
   "id": "790e82b1",
   "metadata": {},
   "outputs": [
    {
     "name": "stdout",
     "output_type": "stream",
     "text": [
      "Inferred frequency is: D\n",
      "Old data dropped by `drop_data_older_than_periods`.\n",
      "Model Number: 1 with model AverageValueNaive in generation 0 of 5\n",
      "Model Number: 2 with model AverageValueNaive in generation 0 of 5\n",
      "Model Number: 3 with model AverageValueNaive in generation 0 of 5\n",
      "Template Eval Error: ValueError('Unable to coerce to Series, length must be 1: given 190') in model 3: AverageValueNaive\n",
      "Model Number: 4 with model DatepartRegression in generation 0 of 5\n",
      "Model Number: 5 with model DatepartRegression in generation 0 of 5\n",
      "Model Number: 6 with model DatepartRegression in generation 0 of 5\n"
     ]
    },
    {
     "name": "stderr",
     "output_type": "stream",
     "text": [
      "C:\\ProgramData\\Anaconda3\\lib\\site-packages\\sklearn\\utils\\validation.py:63: DataConversionWarning: A column-vector y was passed when a 1d array was expected. Please change the shape of y to (n_samples, ), for example using ravel().\n",
      "  return f(*args, **kwargs)\n",
      "C:\\ProgramData\\Anaconda3\\lib\\site-packages\\sklearn\\neural_network\\_multilayer_perceptron.py:500: ConvergenceWarning: lbfgs failed to converge (status=1):\n",
      "STOP: TOTAL NO. of ITERATIONS REACHED LIMIT.\n",
      "\n",
      "Increase the number of iterations (max_iter) or scale the data as shown in:\n",
      "    https://scikit-learn.org/stable/modules/preprocessing.html\n",
      "  self.n_iter_ = _check_optimize_result(\"lbfgs\", opt_res, self.max_iter)\n"
     ]
    },
    {
     "name": "stdout",
     "output_type": "stream",
     "text": [
      "Model Number: 7 with model DatepartRegression in generation 0 of 5\n",
      "Template Eval Error: ImportError('Tensorflow not available, install with pip install tensorflow.') in model 7: DatepartRegression\n",
      "Model Number: 8 with model ETS in generation 0 of 5\n"
     ]
    },
    {
     "name": "stderr",
     "output_type": "stream",
     "text": [
      "C:\\ProgramData\\Anaconda3\\lib\\site-packages\\statsmodels\\tsa\\holtwinters\\model.py:427: FutureWarning: After 0.13 initialization must be handled at model creation\n",
      "  warnings.warn(\n"
     ]
    },
    {
     "name": "stdout",
     "output_type": "stream",
     "text": [
      "Model Number: 9 with model ETS in generation 0 of 5\n",
      "Template Eval Error: ValueError('Unable to coerce to Series, length must be 1: given 190') in model 9: ETS\n",
      "Model Number: 10 with model GLM in generation 0 of 5\n",
      "Model Number: 11 with model GLM in generation 0 of 5\n",
      "Model Number: 12 with model GLS in generation 0 of 5\n",
      "Model Number: 13 with model GLS in generation 0 of 5\n",
      "Model Number: 14 with model GluonTS in generation 0 of 5\n",
      "Template Eval Error: ImportError('GluonTS installation not found or installed version is incompatible with AutoTS.') in model 14: GluonTS\n",
      "Model Number: 15 with model GluonTS in generation 0 of 5\n",
      "Template Eval Error: ImportError('GluonTS installation not found or installed version is incompatible with AutoTS.') in model 15: GluonTS\n",
      "Model Number: 16 with model GluonTS in generation 0 of 5\n",
      "Template Eval Error: ImportError('GluonTS installation not found or installed version is incompatible with AutoTS.') in model 16: GluonTS\n",
      "Model Number: 17 with model GluonTS in generation 0 of 5\n",
      "Template Eval Error: ImportError('GluonTS installation not found or installed version is incompatible with AutoTS.') in model 17: GluonTS\n",
      "Model Number: 18 with model GluonTS in generation 0 of 5\n",
      "Template Eval Error: ImportError('GluonTS installation not found or installed version is incompatible with AutoTS.') in model 18: GluonTS\n",
      "Model Number: 19 with model GluonTS in generation 0 of 5\n",
      "Template Eval Error: ImportError('GluonTS installation not found or installed version is incompatible with AutoTS.') in model 19: GluonTS\n",
      "Model Number: 20 with model LastValueNaive in generation 0 of 5\n",
      "Model Number: 21 with model LastValueNaive in generation 0 of 5\n",
      "Model Number: 22 with model LastValueNaive in generation 0 of 5\n",
      "Model Number: 23 with model LastValueNaive in generation 0 of 5\n",
      "Model Number: 24 with model SeasonalNaive in generation 0 of 5\n",
      "Model Number: 25 with model SeasonalNaive in generation 0 of 5\n",
      "Model Number: 26 with model SeasonalNaive in generation 0 of 5\n",
      "Template Eval Error: ValueError('Unable to coerce to Series, length must be 1: given 190') in model 26: SeasonalNaive\n",
      "Model Number: 27 with model SeasonalNaive in generation 0 of 5\n",
      "Model Number: 28 with model UnobservedComponents in generation 0 of 5\n",
      "Model Number: 29 with model UnobservedComponents in generation 0 of 5\n",
      "Model Number: 30 with model UnobservedComponents in generation 0 of 5\n",
      "Model Number: 31 with model VAR in generation 0 of 5\n",
      "Template Eval Error: ValueError('Only gave one variable to VAR') in model 31: VAR\n",
      "Model Number: 32 with model VAR in generation 0 of 5\n",
      "Template Eval Error: ValueError('Only gave one variable to VAR') in model 32: VAR\n",
      "Model Number: 33 with model VAR in generation 0 of 5\n",
      "Template Eval Error: ValueError('Only gave one variable to VAR') in model 33: VAR\n",
      "Model Number: 34 with model VECM in generation 0 of 5\n",
      "Template Eval Error: ValueError('Unable to coerce to Series, length must be 1: given 190') in model 34: VECM\n",
      "Model Number: 35 with model VECM in generation 0 of 5\n",
      "Template Eval Error: ValueError('Only gave one variable to VECM') in model 35: VECM\n",
      "Model Number: 36 with model VECM in generation 0 of 5\n",
      "Template Eval Error: ValueError('Only gave one variable to VECM') in model 36: VECM\n",
      "Model Number: 37 with model VECM in generation 0 of 5\n",
      "Template Eval Error: ValueError('Only gave one variable to VECM') in model 37: VECM\n",
      "Model Number: 38 with model WindowRegression in generation 0 of 5\n"
     ]
    },
    {
     "name": "stderr",
     "output_type": "stream",
     "text": [
      "C:\\ProgramData\\Anaconda3\\lib\\site-packages\\sklearn\\neural_network\\_multilayer_perceptron.py:500: ConvergenceWarning: lbfgs failed to converge (status=1):\n",
      "STOP: TOTAL NO. of ITERATIONS REACHED LIMIT.\n",
      "\n",
      "Increase the number of iterations (max_iter) or scale the data as shown in:\n",
      "    https://scikit-learn.org/stable/modules/preprocessing.html\n",
      "  self.n_iter_ = _check_optimize_result(\"lbfgs\", opt_res, self.max_iter)\n"
     ]
    },
    {
     "name": "stdout",
     "output_type": "stream",
     "text": [
      "Model Number: 39 with model ZeroesNaive in generation 0 of 5\n",
      "Model Number: 40 with model DatepartRegression in generation 0 of 5\n"
     ]
    },
    {
     "name": "stderr",
     "output_type": "stream",
     "text": [
      "C:\\ProgramData\\Anaconda3\\lib\\site-packages\\autots\\models\\sklearn.py:1499: DataConversionWarning: A column-vector y was passed when a 1d array was expected. Please change the shape of y to (n_samples,), for example using ravel().\n",
      "  self.model = self.model.fit(X, y)\n",
      "[Parallel(n_jobs=1)]: Using backend SequentialBackend with 1 concurrent workers.\n",
      "[Parallel(n_jobs=1)]: Done 1000 out of 1000 | elapsed:    0.9s finished\n",
      "[Parallel(n_jobs=1)]: Using backend SequentialBackend with 1 concurrent workers.\n",
      "[Parallel(n_jobs=1)]: Done 1000 out of 1000 | elapsed:    0.0s finished\n"
     ]
    },
    {
     "name": "stdout",
     "output_type": "stream",
     "text": [
      "Model Number: 41 with model AverageValueNaive in generation 0 of 5\n",
      "Template Eval Error: ValueError('Unable to coerce to Series, length must be 1: given 190') in model 41: AverageValueNaive\n",
      "Model Number: 42 with model ETS in generation 0 of 5\n",
      "Template Eval Error: ValueError('Unable to coerce to Series, length must be 1: given 190') in model 42: ETS\n",
      "Model Number: 43 with model GLS in generation 0 of 5\n",
      "Model Number: 44 with model GLM in generation 0 of 5\n",
      "Model Number: 45 with model ETS in generation 0 of 5\n",
      "Model Number: 46 with model GluonTS in generation 0 of 5\n",
      "Template Eval Error: ValueError('Unable to coerce to Series, length must be 1: given 190') in model 46: GluonTS\n",
      "Model Number: 47 with model GLM in generation 0 of 5\n"
     ]
    },
    {
     "name": "stderr",
     "output_type": "stream",
     "text": [
      "C:\\ProgramData\\Anaconda3\\lib\\site-packages\\statsmodels\\tsa\\holtwinters\\model.py:427: FutureWarning: After 0.13 initialization must be handled at model creation\n",
      "  warnings.warn(\n"
     ]
    },
    {
     "name": "stdout",
     "output_type": "stream",
     "text": [
      "Model Number: 48 with model DatepartRegression in generation 0 of 5\n",
      "Template Eval Error: ValueError('Unable to coerce to Series, length must be 1: given 190') in model 48: DatepartRegression\n",
      "Model Number: 49 with model GluonTS in generation 0 of 5\n",
      "Template Eval Error: ValueError('Unable to coerce to Series, length must be 1: given 190') in model 49: GluonTS\n",
      "Model Number: 50 with model VAR in generation 0 of 5\n",
      "Template Eval Error: ValueError('Only gave one variable to VAR') in model 50: VAR\n",
      "Model Number: 51 with model AverageValueNaive in generation 0 of 5\n",
      "Model Number: 52 with model VAR in generation 0 of 5\n",
      "Template Eval Error: ValueError('Only gave one variable to VAR') in model 52: VAR\n",
      "Model Number: 53 with model ZeroesNaive in generation 0 of 5\n",
      "Template Eval Error: ValueError('Unable to coerce to Series, length must be 1: given 190') in model 53: ZeroesNaive\n",
      "Model Number: 54 with model UnobservedComponents in generation 0 of 5\n",
      "Template Eval Error: ValueError('Unable to coerce to Series, length must be 1: given 190') in model 54: UnobservedComponents\n",
      "Model Number: 55 with model RollingRegression in generation 0 of 5\n",
      "Template Eval Error: ModuleNotFoundError(\"No module named 'lightgbm'\") in model 55: RollingRegression\n",
      "Model Number: 56 with model GLM in generation 0 of 5\n",
      "Model Number: 57 with model LastValueNaive in generation 0 of 5\n",
      "Model Number: 58 with model VAR in generation 0 of 5\n",
      "Template Eval Error: ValueError('Unable to coerce to Series, length must be 1: given 190') in model 58: VAR\n",
      "Model Number: 59 with model GluonTS in generation 0 of 5\n",
      "Template Eval Error: ImportError('GluonTS installation not found or installed version is incompatible with AutoTS.') in model 59: GluonTS\n",
      "Model Number: 60 with model LastValueNaive in generation 0 of 5\n",
      "Model Number: 61 with model VECM in generation 0 of 5\n",
      "Template Eval Error: ValueError('Unable to coerce to Series, length must be 1: given 190') in model 61: VECM\n",
      "Model Number: 62 with model ZeroesNaive in generation 0 of 5\n",
      "Model Number: 63 with model SeasonalNaive in generation 0 of 5\n",
      "Model Number: 64 with model VECM in generation 0 of 5\n",
      "Template Eval Error: ValueError('Only gave one variable to VECM') in model 64: VECM\n",
      "Model Number: 65 with model GluonTS in generation 0 of 5\n",
      "Template Eval Error: ValueError('Unable to coerce to Series, length must be 1: given 190') in model 65: GluonTS\n",
      "Model Number: 66 with model SeasonalNaive in generation 0 of 5\n",
      "Model Number: 67 with model VECM in generation 0 of 5\n",
      "Template Eval Error: ValueError('Only gave one variable to VECM') in model 67: VECM\n",
      "Model Number: 68 with model LastValueNaive in generation 0 of 5\n",
      "Template Eval Error: ValueError('Unable to coerce to Series, length must be 1: given 190') in model 68: LastValueNaive\n",
      "Model Number: 69 with model GLM in generation 0 of 5\n",
      "Model Number: 70 with model FBProphet in generation 0 of 5\n",
      "Template Eval Error: ImportError('Package fbprophet is required') in model 70: FBProphet\n",
      "Model Number: 71 with model GLS in generation 0 of 5\n",
      "Template Eval Error: ValueError('Unable to coerce to Series, length must be 1: given 190') in model 71: GLS\n",
      "Model Number: 72 with model DatepartRegression in generation 0 of 5\n",
      "Model Number: 73 with model AverageValueNaive in generation 0 of 5\n",
      "Model Number: 74 with model ETS in generation 0 of 5\n",
      "Template Eval Error: ValueError('Unable to coerce to Series, length must be 1: given 190') in model 74: ETS\n",
      "Model Number: 75 with model GLM in generation 0 of 5\n",
      "Template Eval Error: ValueError('Unable to coerce to Series, length must be 1: given 190') in model 75: GLM\n",
      "Model Number: 76 with model DatepartRegression in generation 0 of 5\n",
      "Model Number: 77 with model GluonTS in generation 0 of 5\n",
      "Template Eval Error: ImportError('GluonTS installation not found or installed version is incompatible with AutoTS.') in model 77: GluonTS\n",
      "Model Number: 78 with model DatepartRegression in generation 0 of 5\n"
     ]
    },
    {
     "name": "stderr",
     "output_type": "stream",
     "text": [
      "C:\\ProgramData\\Anaconda3\\lib\\site-packages\\autots\\models\\sklearn.py:1499: DataConversionWarning: A column-vector y was passed when a 1d array was expected. Please change the shape of y to (n_samples,), for example using ravel().\n",
      "  self.model = self.model.fit(X, y)\n",
      "[Parallel(n_jobs=1)]: Using backend SequentialBackend with 1 concurrent workers.\n",
      "[Parallel(n_jobs=1)]: Done 1000 out of 1000 | elapsed:    1.5s finished\n",
      "[Parallel(n_jobs=1)]: Using backend SequentialBackend with 1 concurrent workers.\n",
      "[Parallel(n_jobs=1)]: Done 1000 out of 1000 | elapsed:    0.0s finished\n"
     ]
    },
    {
     "name": "stdout",
     "output_type": "stream",
     "text": [
      "Model Number: 79 with model GluonTS in generation 0 of 5\n",
      "Template Eval Error: ImportError('GluonTS installation not found or installed version is incompatible with AutoTS.') in model 79: GluonTS\n",
      "New Generation: 1 of 5\n",
      "Model Number: 80 with model DatepartRegression in generation 1 of 5\n",
      "Template Eval Error: ValueError('Unable to coerce to Series, length must be 1: given 190') in model 80: DatepartRegression\n",
      "Model Number: 81 with model DatepartRegression in generation 1 of 5\n",
      "Template Eval Error: ValueError('Unable to coerce to Series, length must be 1: given 190') in model 81: DatepartRegression\n",
      "Model Number: 82 with model DatepartRegression in generation 1 of 5\n",
      "Template Eval Error: ImportError('Tensorflow not available, install with pip install tensorflow.') in model 82: DatepartRegression\n",
      "Model Number: 83 with model LastValueNaive in generation 1 of 5\n",
      "Model Number: 84 with model LastValueNaive in generation 1 of 5\n"
     ]
    },
    {
     "name": "stderr",
     "output_type": "stream",
     "text": [
      "C:\\ProgramData\\Anaconda3\\lib\\site-packages\\autots\\models\\sklearn.py:429: VisibleDeprecationWarning: Creating an ndarray from ragged nested sequences (which is a list-or-tuple of lists-or-tuples-or ndarrays with different lengths or shapes) is deprecated. If you meant to do this, you must specify 'dtype=object' when creating the ndarray.\n",
      "  \"hidden_layer_sizes\": np.random.choice(\n",
      "C:\\ProgramData\\Anaconda3\\lib\\site-packages\\autots\\models\\sklearn.py:366: VisibleDeprecationWarning: Creating an ndarray from ragged nested sequences (which is a list-or-tuple of lists-or-tuples-or ndarrays with different lengths or shapes) is deprecated. If you meant to do this, you must specify 'dtype=object' when creating the ndarray.\n",
      "  \"hidden_layer_sizes\": np.random.choice(\n",
      "C:\\ProgramData\\Anaconda3\\lib\\site-packages\\scipy\\optimize\\minpack.py:828: OptimizeWarning: Covariance of the parameters could not be estimated\n",
      "  warnings.warn('Covariance of the parameters could not be estimated',\n"
     ]
    },
    {
     "name": "stdout",
     "output_type": "stream",
     "text": [
      "Model Number: 85 with model LastValueNaive in generation 1 of 5\n",
      "Model Number: 86 with model GLM in generation 1 of 5\n",
      "Model Number: 87 with model GLM in generation 1 of 5\n",
      "Model Number: 88 with model GLM in generation 1 of 5\n",
      "Model Number: 89 with model GLM in generation 1 of 5\n",
      "Model Number: 90 with model AverageValueNaive in generation 1 of 5\n",
      "Model Number: 91 with model AverageValueNaive in generation 1 of 5\n",
      "Template Eval Error: ValueError('Unable to coerce to Series, length must be 1: given 190') in model 91: AverageValueNaive\n",
      "Model Number: 92 with model AverageValueNaive in generation 1 of 5\n",
      "Model Number: 93 with model SeasonalNaive in generation 1 of 5\n",
      "Model Number: 94 with model SeasonalNaive in generation 1 of 5\n",
      "Template Eval Error: ValueError('Unable to coerce to Series, length must be 1: given 95') in model 94: SeasonalNaive\n",
      "Model Number: 95 with model SeasonalNaive in generation 1 of 5\n",
      "Template Eval Error: ValueError('Unable to coerce to Series, length must be 1: given 95') in model 95: SeasonalNaive\n",
      "Model Number: 96 with model SeasonalNaive in generation 1 of 5\n",
      "Template Eval Error: ValueError('Unable to coerce to Series, length must be 1: given 190') in model 96: SeasonalNaive\n",
      "Model Number: 97 with model ETS in generation 1 of 5\n",
      "Template Eval Error: ValueError('Unable to coerce to Series, length must be 1: given 190') in model 97: ETS\n",
      "Model Number: 98 with model ETS in generation 1 of 5\n",
      "Template Eval Error: ValueError('Unable to coerce to Series, length must be 1: given 190') in model 98: ETS\n",
      "Model Number: 99 with model ETS in generation 1 of 5\n"
     ]
    },
    {
     "name": "stderr",
     "output_type": "stream",
     "text": [
      "C:\\ProgramData\\Anaconda3\\lib\\site-packages\\statsmodels\\tsa\\holtwinters\\model.py:427: FutureWarning: After 0.13 initialization must be handled at model creation\n",
      "  warnings.warn(\n",
      "C:\\ProgramData\\Anaconda3\\lib\\site-packages\\autots\\models\\statsmodels.py:511: FutureWarning: the 'damped'' keyword is deprecated, use 'damped_trend' instead\n",
      "  esModel = ExponentialSmoothing(\n"
     ]
    },
    {
     "name": "stdout",
     "output_type": "stream",
     "text": [
      "Model Number: 100 with model ETS in generation 1 of 5\n",
      "Model Number: 101 with model ZeroesNaive in generation 1 of 5\n",
      "Template Eval Error: ValueError('Unable to coerce to Series, length must be 1: given 190') in model 101: ZeroesNaive\n",
      "Model Number: 102 with model ZeroesNaive in generation 1 of 5\n",
      "Model Number: 103 with model UnobservedComponents in generation 1 of 5\n",
      "Model Number: 104 with model UnobservedComponents in generation 1 of 5\n",
      "Model Number: 105 with model UnobservedComponents in generation 1 of 5\n",
      "Model Number: 106 with model GLS in generation 1 of 5\n",
      "Template Eval Error: ValueError('Unable to coerce to Series, length must be 1: given 190') in model 106: GLS\n",
      "Model Number: 107 with model GLS in generation 1 of 5\n",
      "Model Number: 108 with model GLS in generation 1 of 5\n",
      "Model Number: 109 with model WindowRegression in generation 1 of 5\n"
     ]
    },
    {
     "name": "stderr",
     "output_type": "stream",
     "text": [
      "C:\\ProgramData\\Anaconda3\\lib\\site-packages\\sklearn\\utils\\validation.py:63: DataConversionWarning: A column-vector y was passed when a 1d array was expected. Please change the shape of y to (n_samples, ), for example using ravel().\n",
      "  return f(*args, **kwargs)\n",
      "C:\\ProgramData\\Anaconda3\\lib\\site-packages\\sklearn\\neural_network\\_multilayer_perceptron.py:500: ConvergenceWarning: lbfgs failed to converge (status=1):\n",
      "STOP: TOTAL NO. of ITERATIONS REACHED LIMIT.\n",
      "\n",
      "Increase the number of iterations (max_iter) or scale the data as shown in:\n",
      "    https://scikit-learn.org/stable/modules/preprocessing.html\n",
      "  self.n_iter_ = _check_optimize_result(\"lbfgs\", opt_res, self.max_iter)\n"
     ]
    },
    {
     "name": "stdout",
     "output_type": "stream",
     "text": [
      "Template Eval Error: ValueError(\"Input contains NaN, infinity or a value too large for dtype('float64').\") in model 109: WindowRegression\n",
      "Model Number: 110 with model WindowRegression in generation 1 of 5\n",
      "Template Eval Error: ValueError('Unable to coerce to Series, length must be 1: given 190') in model 110: WindowRegression\n",
      "Model Number: 111 with model WindowRegression in generation 1 of 5\n",
      "Template Eval Error: ValueError('Unable to coerce to Series, length must be 1: given 190') in model 111: WindowRegression\n",
      "Model Number: 112 with model WindowRegression in generation 1 of 5\n"
     ]
    },
    {
     "name": "stderr",
     "output_type": "stream",
     "text": [
      "C:\\ProgramData\\Anaconda3\\lib\\site-packages\\sklearn\\neural_network\\_multilayer_perceptron.py:500: ConvergenceWarning: lbfgs failed to converge (status=1):\n",
      "STOP: TOTAL NO. of ITERATIONS REACHED LIMIT.\n",
      "\n",
      "Increase the number of iterations (max_iter) or scale the data as shown in:\n",
      "    https://scikit-learn.org/stable/modules/preprocessing.html\n",
      "  self.n_iter_ = _check_optimize_result(\"lbfgs\", opt_res, self.max_iter)\n"
     ]
    },
    {
     "name": "stdout",
     "output_type": "stream",
     "text": [
      "Model Number: 113 with model GluonTS in generation 1 of 5\n",
      "Template Eval Error: ImportError('GluonTS installation not found or installed version is incompatible with AutoTS.') in model 113: GluonTS\n",
      "Model Number: 114 with model GluonTS in generation 1 of 5\n",
      "Template Eval Error: ImportError('GluonTS installation not found or installed version is incompatible with AutoTS.') in model 114: GluonTS\n",
      "Model Number: 115 with model GluonTS in generation 1 of 5\n",
      "Template Eval Error: ImportError('GluonTS installation not found or installed version is incompatible with AutoTS.') in model 115: GluonTS\n",
      "Model Number: 116 with model GluonTS in generation 1 of 5\n",
      "Template Eval Error: ImportError('GluonTS installation not found or installed version is incompatible with AutoTS.') in model 116: GluonTS\n",
      "Model Number: 117 with model VAR in generation 1 of 5\n",
      "Template Eval Error: ValueError('Only gave one variable to VAR') in model 117: VAR\n",
      "Model Number: 118 with model VAR in generation 1 of 5\n",
      "Template Eval Error: ValueError('Only gave one variable to VAR') in model 118: VAR\n",
      "Model Number: 119 with model VAR in generation 1 of 5\n",
      "Template Eval Error: ValueError('Only gave one variable to VAR') in model 119: VAR\n",
      "Model Number: 120 with model VAR in generation 1 of 5\n",
      "Template Eval Error: ValueError('Only gave one variable to VAR') in model 120: VAR\n",
      "Model Number: 121 with model VECM in generation 1 of 5\n",
      "Template Eval Error: ValueError('Only gave one variable to VECM') in model 121: VECM\n",
      "Model Number: 122 with model VECM in generation 1 of 5\n",
      "Template Eval Error: ValueError('Only gave one variable to VECM') in model 122: VECM\n",
      "Model Number: 123 with model VECM in generation 1 of 5\n",
      "Template Eval Error: ValueError('Only gave one variable to VECM') in model 123: VECM\n",
      "Model Number: 124 with model VECM in generation 1 of 5\n",
      "Template Eval Error: ValueError('Unable to coerce to Series, length must be 1: given 190') in model 124: VECM\n",
      "Model Number: 125 with model RollingRegression in generation 1 of 5\n"
     ]
    },
    {
     "name": "stderr",
     "output_type": "stream",
     "text": [
      "C:\\ProgramData\\Anaconda3\\lib\\site-packages\\sklearn\\utils\\validation.py:63: DataConversionWarning: A column-vector y was passed when a 1d array was expected. Please change the shape of y to (n_samples, ), for example using ravel().\n",
      "  return f(*args, **kwargs)\n",
      "C:\\ProgramData\\Anaconda3\\lib\\site-packages\\sklearn\\neural_network\\_multilayer_perceptron.py:614: ConvergenceWarning: Stochastic Optimizer: Maximum iterations (250) reached and the optimization hasn't converged yet.\n",
      "  warnings.warn(\n",
      "C:\\ProgramData\\Anaconda3\\lib\\site-packages\\sklearn\\utils\\validation.py:63: DataConversionWarning: A column-vector y was passed when a 1d array was expected. Please change the shape of y to (n_samples, ), for example using ravel().\n",
      "  return f(*args, **kwargs)\n"
     ]
    },
    {
     "name": "stdout",
     "output_type": "stream",
     "text": [
      "Model Number: 126 with model RollingRegression in generation 1 of 5\n"
     ]
    },
    {
     "name": "stderr",
     "output_type": "stream",
     "text": [
      "C:\\ProgramData\\Anaconda3\\lib\\site-packages\\sklearn\\neural_network\\_multilayer_perceptron.py:614: ConvergenceWarning: Stochastic Optimizer: Maximum iterations (250) reached and the optimization hasn't converged yet.\n",
      "  warnings.warn(\n"
     ]
    },
    {
     "name": "stdout",
     "output_type": "stream",
     "text": [
      "Model Number: 127 with model RollingRegression in generation 1 of 5\n",
      "Template Eval Error: ModuleNotFoundError(\"No module named 'lightgbm'\") in model 127: RollingRegression\n",
      "Model Number: 128 with model RollingRegression in generation 1 of 5\n",
      "Model Number: 129 with model FBProphet in generation 1 of 5\n",
      "Template Eval Error: ValueError('Unable to coerce to Series, length must be 1: given 190') in model 129: FBProphet\n",
      "Model Number: 130 with model FBProphet in generation 1 of 5\n",
      "Template Eval Error: ValueError('Unable to coerce to Series, length must be 1: given 190') in model 130: FBProphet\n",
      "Model Number: 131 with model FBProphet in generation 1 of 5\n",
      "Template Eval Error: ImportError('Package fbprophet is required') in model 131: FBProphet\n",
      "Model Number: 132 with model FBProphet in generation 1 of 5\n",
      "Template Eval Error: ValueError('Unable to coerce to Series, length must be 1: given 190') in model 132: FBProphet\n",
      "New Generation: 2 of 5\n",
      "Model Number: 133 with model LastValueNaive in generation 2 of 5\n",
      "Model Number: 134 with model LastValueNaive in generation 2 of 5\n",
      "Model Number: 135 with model LastValueNaive in generation 2 of 5\n",
      "Model Number: 136 with model DatepartRegression in generation 2 of 5\n"
     ]
    },
    {
     "name": "stderr",
     "output_type": "stream",
     "text": [
      "C:\\ProgramData\\Anaconda3\\lib\\site-packages\\autots\\models\\sklearn.py:1499: DataConversionWarning: A column-vector y was passed when a 1d array was expected. Please change the shape of y to (n_samples,), for example using ravel().\n",
      "  self.model = self.model.fit(X, y)\n",
      "[Parallel(n_jobs=1)]: Using backend SequentialBackend with 1 concurrent workers.\n",
      "[Parallel(n_jobs=1)]: Done 1000 out of 1000 | elapsed:    0.8s finished\n",
      "[Parallel(n_jobs=1)]: Using backend SequentialBackend with 1 concurrent workers.\n",
      "[Parallel(n_jobs=1)]: Done 1000 out of 1000 | elapsed:    0.0s finished\n",
      "C:\\ProgramData\\Anaconda3\\lib\\site-packages\\sklearn\\svm\\_base.py:985: ConvergenceWarning: Liblinear failed to converge, increase the number of iterations.\n",
      "  warnings.warn(\"Liblinear failed to converge, increase \"\n",
      "C:\\ProgramData\\Anaconda3\\lib\\site-packages\\sklearn\\svm\\_base.py:985: ConvergenceWarning: Liblinear failed to converge, increase the number of iterations.\n",
      "  warnings.warn(\"Liblinear failed to converge, increase \"\n"
     ]
    },
    {
     "name": "stdout",
     "output_type": "stream",
     "text": [
      "Model Number: 137 with model DatepartRegression in generation 2 of 5\n",
      "[LibLinear][LibLinear][LibLinear]Model Number: 138 with model DatepartRegression in generation 2 of 5\n",
      "Template Eval Error: ModuleNotFoundError(\"No module named 'lightgbm'\") in model 138: DatepartRegression\n",
      "Model Number: 139 with model UnobservedComponents in generation 2 of 5\n",
      "Model Number: 140 with model UnobservedComponents in generation 2 of 5\n"
     ]
    },
    {
     "name": "stderr",
     "output_type": "stream",
     "text": [
      "C:\\ProgramData\\Anaconda3\\lib\\site-packages\\sklearn\\svm\\_base.py:985: ConvergenceWarning: Liblinear failed to converge, increase the number of iterations.\n",
      "  warnings.warn(\"Liblinear failed to converge, increase \"\n"
     ]
    },
    {
     "name": "stdout",
     "output_type": "stream",
     "text": [
      "Model Number: 141 with model UnobservedComponents in generation 2 of 5\n",
      "Model Number: 142 with model WindowRegression in generation 2 of 5\n",
      "Model Number: 143 with model WindowRegression in generation 2 of 5\n"
     ]
    },
    {
     "name": "stderr",
     "output_type": "stream",
     "text": [
      "C:\\ProgramData\\Anaconda3\\lib\\site-packages\\sklearn\\neural_network\\_multilayer_perceptron.py:500: ConvergenceWarning: lbfgs failed to converge (status=1):\n",
      "STOP: TOTAL NO. of ITERATIONS REACHED LIMIT.\n",
      "\n",
      "Increase the number of iterations (max_iter) or scale the data as shown in:\n",
      "    https://scikit-learn.org/stable/modules/preprocessing.html\n",
      "  self.n_iter_ = _check_optimize_result(\"lbfgs\", opt_res, self.max_iter)\n"
     ]
    },
    {
     "name": "stdout",
     "output_type": "stream",
     "text": [
      "Model Number: 144 with model WindowRegression in generation 2 of 5\n"
     ]
    },
    {
     "name": "stderr",
     "output_type": "stream",
     "text": [
      "C:\\ProgramData\\Anaconda3\\lib\\site-packages\\sklearn\\neural_network\\_multilayer_perceptron.py:500: ConvergenceWarning: lbfgs failed to converge (status=1):\n",
      "STOP: TOTAL NO. of ITERATIONS REACHED LIMIT.\n",
      "\n",
      "Increase the number of iterations (max_iter) or scale the data as shown in:\n",
      "    https://scikit-learn.org/stable/modules/preprocessing.html\n",
      "  self.n_iter_ = _check_optimize_result(\"lbfgs\", opt_res, self.max_iter)\n"
     ]
    },
    {
     "name": "stdout",
     "output_type": "stream",
     "text": [
      "Model Number: 145 with model WindowRegression in generation 2 of 5\n",
      "Model Number: 146 with model GLM in generation 2 of 5\n",
      "Model Number: 147 with model GLM in generation 2 of 5\n",
      "Model Number: 148 with model GLM in generation 2 of 5\n"
     ]
    },
    {
     "name": "stderr",
     "output_type": "stream",
     "text": [
      "C:\\ProgramData\\Anaconda3\\lib\\site-packages\\statsmodels\\genmod\\families\\family.py:428: RuntimeWarning: divide by zero encountered in true_divide\n",
      "  endog_mu = self._clean(endog / mu)\n",
      "C:\\ProgramData\\Anaconda3\\lib\\site-packages\\statsmodels\\genmod\\families\\family.py:134: RuntimeWarning: divide by zero encountered in true_divide\n",
      "  return 1. / (self.link.deriv(mu)**2 * self.variance(mu))\n"
     ]
    },
    {
     "name": "stdout",
     "output_type": "stream",
     "text": [
      "Template Eval Error: ValueError('NaN, inf or invalid value detected in weights, estimation infeasible.') in model 148: GLM\n",
      "Model Number: 149 with model GLM in generation 2 of 5\n",
      "Model Number: 150 with model AverageValueNaive in generation 2 of 5\n",
      "Model Number: 151 with model AverageValueNaive in generation 2 of 5\n",
      "Model Number: 152 with model AverageValueNaive in generation 2 of 5\n",
      "Model Number: 153 with model SeasonalNaive in generation 2 of 5\n",
      "Model Number: 154 with model SeasonalNaive in generation 2 of 5\n",
      "Model Number: 155 with model SeasonalNaive in generation 2 of 5\n",
      "Model Number: 156 with model SeasonalNaive in generation 2 of 5\n",
      "Model Number: 157 with model ETS in generation 2 of 5\n"
     ]
    },
    {
     "name": "stderr",
     "output_type": "stream",
     "text": [
      "C:\\ProgramData\\Anaconda3\\lib\\site-packages\\statsmodels\\tsa\\holtwinters\\model.py:427: FutureWarning: After 0.13 initialization must be handled at model creation\n",
      "  warnings.warn(\n",
      "C:\\ProgramData\\Anaconda3\\lib\\site-packages\\autots\\models\\statsmodels.py:511: FutureWarning: the 'damped'' keyword is deprecated, use 'damped_trend' instead\n",
      "  esModel = ExponentialSmoothing(\n",
      "C:\\ProgramData\\Anaconda3\\lib\\site-packages\\statsmodels\\tsa\\holtwinters\\model.py:427: FutureWarning: After 0.13 initialization must be handled at model creation\n",
      "  warnings.warn(\n"
     ]
    },
    {
     "name": "stdout",
     "output_type": "stream",
     "text": [
      "Model Number: 158 with model ETS in generation 2 of 5\n",
      "Model Number: 159 with model ETS in generation 2 of 5\n",
      "Model Number: 160 with model GLS in generation 2 of 5\n",
      "Model Number: 161 with model GLS in generation 2 of 5\n",
      "Model Number: 162 with model GLS in generation 2 of 5\n",
      "Model Number: 163 with model RollingRegression in generation 2 of 5\n"
     ]
    },
    {
     "name": "stderr",
     "output_type": "stream",
     "text": [
      "C:\\ProgramData\\Anaconda3\\lib\\site-packages\\sklearn\\utils\\validation.py:63: DataConversionWarning: A column-vector y was passed when a 1d array was expected. Please change the shape of y to (n_samples, ), for example using ravel().\n",
      "  return f(*args, **kwargs)\n"
     ]
    },
    {
     "name": "stdout",
     "output_type": "stream",
     "text": [
      "Model Number: 164 with model RollingRegression in generation 2 of 5\n",
      "Model Number: 165 with model RollingRegression in generation 2 of 5\n"
     ]
    },
    {
     "name": "stderr",
     "output_type": "stream",
     "text": [
      "C:\\ProgramData\\Anaconda3\\lib\\site-packages\\numpy\\lib\\function_base.py:2634: RuntimeWarning: Degrees of freedom <= 0 for slice\n",
      "  c = cov(x, y, rowvar, dtype=dtype)\n",
      "C:\\ProgramData\\Anaconda3\\lib\\site-packages\\numpy\\lib\\function_base.py:2634: RuntimeWarning: Degrees of freedom <= 0 for slice\n",
      "  c = cov(x, y, rowvar, dtype=dtype)\n"
     ]
    },
    {
     "name": "stdout",
     "output_type": "stream",
     "text": [
      "Template Eval Error: ValueError(\"Input contains NaN, infinity or a value too large for dtype('float64').\") in model 165: RollingRegression\n",
      "Model Number: 166 with model RollingRegression in generation 2 of 5\n",
      "Template Eval Error: ValueError(\"Input contains NaN, infinity or a value too large for dtype('float64').\") in model 166: RollingRegression\n",
      "Model Number: 167 with model GluonTS in generation 2 of 5\n",
      "Template Eval Error: ImportError('GluonTS installation not found or installed version is incompatible with AutoTS.') in model 167: GluonTS\n",
      "Model Number: 168 with model GluonTS in generation 2 of 5\n",
      "Template Eval Error: ValueError('Length mismatch: Expected axis has 191 elements, new values have 1 elements') in model 168: GluonTS\n",
      "Model Number: 169 with model GluonTS in generation 2 of 5\n",
      "Template Eval Error: ImportError('GluonTS installation not found or installed version is incompatible with AutoTS.') in model 169: GluonTS\n",
      "Model Number: 170 with model GluonTS in generation 2 of 5\n"
     ]
    },
    {
     "name": "stderr",
     "output_type": "stream",
     "text": [
      "C:\\ProgramData\\Anaconda3\\lib\\site-packages\\sklearn\\utils\\extmath.py:847: RuntimeWarning: invalid value encountered in true_divide\n",
      "  updated_mean = (last_sum + new_sum) / updated_sample_count\n",
      "C:\\ProgramData\\Anaconda3\\lib\\site-packages\\sklearn\\utils\\extmath.py:689: RuntimeWarning: Degrees of freedom <= 0 for slice.\n",
      "  result = op(x, *args, **kwargs)\n"
     ]
    },
    {
     "name": "stdout",
     "output_type": "stream",
     "text": [
      "Template Eval Error: ImportError('GluonTS installation not found or installed version is incompatible with AutoTS.') in model 170: GluonTS\n",
      "Model Number: 171 with model VAR in generation 2 of 5\n",
      "Template Eval Error: ValueError('Only gave one variable to VAR') in model 171: VAR\n",
      "Model Number: 172 with model VAR in generation 2 of 5\n",
      "Template Eval Error: ValueError('Unable to coerce to Series, length must be 1: given 190') in model 172: VAR\n",
      "Model Number: 173 with model VAR in generation 2 of 5\n",
      "Template Eval Error: ValueError('Unable to coerce to Series, length must be 1: given 190') in model 173: VAR\n",
      "Model Number: 174 with model VAR in generation 2 of 5\n",
      "Template Eval Error: ValueError('Only gave one variable to VAR') in model 174: VAR\n",
      "Model Number: 175 with model VECM in generation 2 of 5\n",
      "Template Eval Error: ValueError('Unable to coerce to Series, length must be 1: given 190') in model 175: VECM\n",
      "Model Number: 176 with model VECM in generation 2 of 5\n",
      "Template Eval Error: ValueError('Only gave one variable to VECM') in model 176: VECM\n",
      "Model Number: 177 with model VECM in generation 2 of 5\n",
      "Template Eval Error: ValueError('Only gave one variable to VECM') in model 177: VECM\n",
      "Model Number: 178 with model VECM in generation 2 of 5\n",
      "Template Eval Error: ValueError('Only gave one variable to VECM') in model 178: VECM\n",
      "Model Number: 179 with model FBProphet in generation 2 of 5\n",
      "Template Eval Error: ImportError('Package fbprophet is required') in model 179: FBProphet\n",
      "Model Number: 180 with model FBProphet in generation 2 of 5\n",
      "Template Eval Error: ImportError('Package fbprophet is required') in model 180: FBProphet\n",
      "Model Number: 181 with model FBProphet in generation 2 of 5\n",
      "Template Eval Error: ImportError('Package fbprophet is required') in model 181: FBProphet\n",
      "New Generation: 3 of 5\n"
     ]
    },
    {
     "name": "stderr",
     "output_type": "stream",
     "text": [
      "C:\\ProgramData\\Anaconda3\\lib\\site-packages\\autots\\models\\sklearn.py:429: VisibleDeprecationWarning: Creating an ndarray from ragged nested sequences (which is a list-or-tuple of lists-or-tuples-or ndarrays with different lengths or shapes) is deprecated. If you meant to do this, you must specify 'dtype=object' when creating the ndarray.\n",
      "  \"hidden_layer_sizes\": np.random.choice(\n",
      "C:\\ProgramData\\Anaconda3\\lib\\site-packages\\autots\\models\\sklearn.py:366: VisibleDeprecationWarning: Creating an ndarray from ragged nested sequences (which is a list-or-tuple of lists-or-tuples-or ndarrays with different lengths or shapes) is deprecated. If you meant to do this, you must specify 'dtype=object' when creating the ndarray.\n",
      "  \"hidden_layer_sizes\": np.random.choice(\n",
      "C:\\ProgramData\\Anaconda3\\lib\\site-packages\\autots\\models\\statsmodels.py:511: FutureWarning: the 'damped'' keyword is deprecated, use 'damped_trend' instead\n",
      "  esModel = ExponentialSmoothing(\n"
     ]
    },
    {
     "name": "stdout",
     "output_type": "stream",
     "text": [
      "Model Number: 182 with model ZeroesNaive in generation 3 of 5\n",
      "Model Number: 183 with model ZeroesNaive in generation 3 of 5\n",
      "Model Number: 184 with model LastValueNaive in generation 3 of 5\n",
      "Model Number: 185 with model LastValueNaive in generation 3 of 5\n",
      "Model Number: 186 with model ETS in generation 3 of 5\n",
      "Model Number: 187 with model ETS in generation 3 of 5\n"
     ]
    },
    {
     "name": "stderr",
     "output_type": "stream",
     "text": [
      "C:\\ProgramData\\Anaconda3\\lib\\site-packages\\autots\\models\\statsmodels.py:511: FutureWarning: the 'damped'' keyword is deprecated, use 'damped_trend' instead\n",
      "  esModel = ExponentialSmoothing(\n",
      "C:\\ProgramData\\Anaconda3\\lib\\site-packages\\statsmodels\\tsa\\holtwinters\\model.py:427: FutureWarning: After 0.13 initialization must be handled at model creation\n",
      "  warnings.warn(\n",
      "C:\\ProgramData\\Anaconda3\\lib\\site-packages\\statsmodels\\tsa\\holtwinters\\model.py:427: FutureWarning: After 0.13 initialization must be handled at model creation\n",
      "  warnings.warn(\n"
     ]
    },
    {
     "name": "stdout",
     "output_type": "stream",
     "text": [
      "Model Number: 188 with model ETS in generation 3 of 5\n",
      "Model Number: 189 with model ETS in generation 3 of 5\n",
      "Model Number: 190 with model DatepartRegression in generation 3 of 5\n",
      "Model Number: 191 with model DatepartRegression in generation 3 of 5\n",
      "Template Eval Error: ImportError('Tensorflow not available, install with pip install tensorflow.') in model 191: DatepartRegression\n",
      "Model Number: 192 with model DatepartRegression in generation 3 of 5\n",
      "Model Number: 193 with model GLS in generation 3 of 5\n",
      "Model Number: 194 with model GLS in generation 3 of 5\n",
      "Model Number: 195 with model GLS in generation 3 of 5\n",
      "Model Number: 196 with model UnobservedComponents in generation 3 of 5\n",
      "Model Number: 197 with model UnobservedComponents in generation 3 of 5\n",
      "Model Number: 198 with model UnobservedComponents in generation 3 of 5\n",
      "Model Number: 199 with model WindowRegression in generation 3 of 5\n"
     ]
    },
    {
     "name": "stderr",
     "output_type": "stream",
     "text": [
      "C:\\ProgramData\\Anaconda3\\lib\\site-packages\\sklearn\\neural_network\\_multilayer_perceptron.py:500: ConvergenceWarning: lbfgs failed to converge (status=1):\n",
      "STOP: TOTAL NO. of ITERATIONS REACHED LIMIT.\n",
      "\n",
      "Increase the number of iterations (max_iter) or scale the data as shown in:\n",
      "    https://scikit-learn.org/stable/modules/preprocessing.html\n",
      "  self.n_iter_ = _check_optimize_result(\"lbfgs\", opt_res, self.max_iter)\n"
     ]
    },
    {
     "name": "stdout",
     "output_type": "stream",
     "text": [
      "Model Number: 200 with model WindowRegression in generation 3 of 5\n"
     ]
    },
    {
     "name": "stderr",
     "output_type": "stream",
     "text": [
      "C:\\ProgramData\\Anaconda3\\lib\\site-packages\\sklearn\\neural_network\\_multilayer_perceptron.py:500: ConvergenceWarning: lbfgs failed to converge (status=1):\n",
      "STOP: TOTAL NO. of ITERATIONS REACHED LIMIT.\n",
      "\n",
      "Increase the number of iterations (max_iter) or scale the data as shown in:\n",
      "    https://scikit-learn.org/stable/modules/preprocessing.html\n",
      "  self.n_iter_ = _check_optimize_result(\"lbfgs\", opt_res, self.max_iter)\n"
     ]
    },
    {
     "name": "stdout",
     "output_type": "stream",
     "text": [
      "Model Number: 201 with model WindowRegression in generation 3 of 5\n"
     ]
    },
    {
     "name": "stderr",
     "output_type": "stream",
     "text": [
      "C:\\ProgramData\\Anaconda3\\lib\\site-packages\\sklearn\\neural_network\\_multilayer_perceptron.py:500: ConvergenceWarning: lbfgs failed to converge (status=1):\n",
      "STOP: TOTAL NO. of ITERATIONS REACHED LIMIT.\n",
      "\n",
      "Increase the number of iterations (max_iter) or scale the data as shown in:\n",
      "    https://scikit-learn.org/stable/modules/preprocessing.html\n",
      "  self.n_iter_ = _check_optimize_result(\"lbfgs\", opt_res, self.max_iter)\n"
     ]
    },
    {
     "name": "stdout",
     "output_type": "stream",
     "text": [
      "Model Number: 202 with model WindowRegression in generation 3 of 5\n"
     ]
    },
    {
     "name": "stderr",
     "output_type": "stream",
     "text": [
      "C:\\ProgramData\\Anaconda3\\lib\\site-packages\\sklearn\\neural_network\\_multilayer_perceptron.py:500: ConvergenceWarning: lbfgs failed to converge (status=1):\n",
      "STOP: TOTAL NO. of ITERATIONS REACHED LIMIT.\n",
      "\n",
      "Increase the number of iterations (max_iter) or scale the data as shown in:\n",
      "    https://scikit-learn.org/stable/modules/preprocessing.html\n",
      "  self.n_iter_ = _check_optimize_result(\"lbfgs\", opt_res, self.max_iter)\n",
      "C:\\ProgramData\\Anaconda3\\lib\\site-packages\\statsmodels\\genmod\\families\\links.py:188: RuntimeWarning: overflow encountered in exp\n",
      "  t = np.exp(-z)\n"
     ]
    },
    {
     "name": "stdout",
     "output_type": "stream",
     "text": [
      "Model Number: 203 with model GLM in generation 3 of 5\n",
      "Model Number: 204 with model GLM in generation 3 of 5\n",
      "Model Number: 205 with model GLM in generation 3 of 5\n",
      "Model Number: 206 with model GLM in generation 3 of 5\n",
      "Template Eval Error: ValueError('NaN, inf or invalid value detected in weights, estimation infeasible.') in model 206: GLM\n",
      "Model Number: 207 with model AverageValueNaive in generation 3 of 5\n",
      "Model Number: 208 with model AverageValueNaive in generation 3 of 5\n",
      "Model Number: 209 with model AverageValueNaive in generation 3 of 5\n",
      "Model Number: 210 with model SeasonalNaive in generation 3 of 5\n"
     ]
    },
    {
     "name": "stderr",
     "output_type": "stream",
     "text": [
      "C:\\ProgramData\\Anaconda3\\lib\\site-packages\\statsmodels\\genmod\\families\\family.py:428: RuntimeWarning: divide by zero encountered in true_divide\n",
      "  endog_mu = self._clean(endog / mu)\n",
      "C:\\ProgramData\\Anaconda3\\lib\\site-packages\\statsmodels\\genmod\\families\\family.py:134: RuntimeWarning: divide by zero encountered in true_divide\n",
      "  return 1. / (self.link.deriv(mu)**2 * self.variance(mu))\n"
     ]
    },
    {
     "name": "stdout",
     "output_type": "stream",
     "text": [
      "Model Number: 211 with model SeasonalNaive in generation 3 of 5\n",
      "Model Number: 212 with model SeasonalNaive in generation 3 of 5\n",
      "Model Number: 213 with model SeasonalNaive in generation 3 of 5\n",
      "Model Number: 214 with model RollingRegression in generation 3 of 5\n",
      "Model Number: 215 with model RollingRegression in generation 3 of 5\n"
     ]
    },
    {
     "name": "stderr",
     "output_type": "stream",
     "text": [
      "C:\\ProgramData\\Anaconda3\\lib\\site-packages\\sklearn\\feature_selection\\_variance_threshold.py:78: RuntimeWarning: Degrees of freedom <= 0 for slice.\n",
      "  self.variances_ = np.nanvar(X, axis=0)\n",
      "C:\\ProgramData\\Anaconda3\\lib\\site-packages\\sklearn\\feature_selection\\_variance_threshold.py:86: RuntimeWarning: All-NaN slice encountered\n",
      "  self.variances_ = np.nanmin(compare_arr, axis=0)\n"
     ]
    },
    {
     "name": "stdout",
     "output_type": "stream",
     "text": [
      "Template Eval Error: ValueError('Found input variables with inconsistent numbers of samples: [378, 188]') in model 215: RollingRegression\n",
      "Model Number: 216 with model RollingRegression in generation 3 of 5\n",
      "Model Number: 217 with model RollingRegression in generation 3 of 5\n",
      "Template Eval Error: ValueError('Unable to coerce to Series, length must be 1: given 190') in model 217: RollingRegression\n",
      "Model Number: 218 with model GluonTS in generation 3 of 5\n",
      "Template Eval Error: ValueError('Unable to coerce to Series, length must be 1: given 190') in model 218: GluonTS\n",
      "Model Number: 219 with model GluonTS in generation 3 of 5\n",
      "Template Eval Error: ImportError('GluonTS installation not found or installed version is incompatible with AutoTS.') in model 219: GluonTS\n",
      "Model Number: 220 with model GluonTS in generation 3 of 5\n",
      "Template Eval Error: ImportError('GluonTS installation not found or installed version is incompatible with AutoTS.') in model 220: GluonTS\n",
      "Model Number: 221 with model GluonTS in generation 3 of 5\n",
      "Template Eval Error: ValueError('Unable to coerce to Series, length must be 1: given 190') in model 221: GluonTS\n",
      "Model Number: 222 with model VAR in generation 3 of 5\n",
      "Template Eval Error: ValueError('Only gave one variable to VAR') in model 222: VAR\n",
      "Model Number: 223 with model VAR in generation 3 of 5\n",
      "Template Eval Error: ValueError('Only gave one variable to VAR') in model 223: VAR\n",
      "Model Number: 224 with model VAR in generation 3 of 5\n",
      "Template Eval Error: ValueError('Only gave one variable to VAR') in model 224: VAR\n",
      "Model Number: 225 with model VAR in generation 3 of 5\n",
      "Template Eval Error: ValueError('Only gave one variable to VAR') in model 225: VAR\n",
      "Model Number: 226 with model VECM in generation 3 of 5\n",
      "Template Eval Error: ValueError('Only gave one variable to VECM') in model 226: VECM\n",
      "Model Number: 227 with model VECM in generation 3 of 5\n",
      "Template Eval Error: ValueError('Only gave one variable to VECM') in model 227: VECM\n",
      "Model Number: 228 with model VECM in generation 3 of 5\n",
      "Template Eval Error: ValueError('Only gave one variable to VECM') in model 228: VECM\n",
      "Model Number: 229 with model VECM in generation 3 of 5\n",
      "Template Eval Error: ValueError('Only gave one variable to VECM') in model 229: VECM\n",
      "Model Number: 230 with model FBProphet in generation 3 of 5\n",
      "Template Eval Error: ValueError('Unable to coerce to Series, length must be 1: given 190') in model 230: FBProphet\n",
      "Model Number: 231 with model FBProphet in generation 3 of 5\n",
      "Template Eval Error: ValueError('Unable to coerce to Series, length must be 1: given 190') in model 231: FBProphet\n",
      "Model Number: 232 with model FBProphet in generation 3 of 5\n",
      "Template Eval Error: ValueError('Unable to coerce to Series, length must be 1: given 190') in model 232: FBProphet\n",
      "New Generation: 4 of 5\n"
     ]
    },
    {
     "name": "stderr",
     "output_type": "stream",
     "text": [
      "C:\\ProgramData\\Anaconda3\\lib\\site-packages\\autots\\models\\sklearn.py:366: VisibleDeprecationWarning: Creating an ndarray from ragged nested sequences (which is a list-or-tuple of lists-or-tuples-or ndarrays with different lengths or shapes) is deprecated. If you meant to do this, you must specify 'dtype=object' when creating the ndarray.\n",
      "  \"hidden_layer_sizes\": np.random.choice(\n"
     ]
    },
    {
     "name": "stdout",
     "output_type": "stream",
     "text": [
      "Model Number: 233 with model AverageValueNaive in generation 4 of 5\n",
      "Model Number: 234 with model AverageValueNaive in generation 4 of 5\n",
      "Model Number: 235 with model AverageValueNaive in generation 4 of 5\n",
      "Model Number: 236 with model ZeroesNaive in generation 4 of 5\n",
      "Model Number: 237 with model ZeroesNaive in generation 4 of 5\n",
      "Model Number: 238 with model ZeroesNaive in generation 4 of 5\n",
      "Model Number: 239 with model LastValueNaive in generation 4 of 5\n",
      "Model Number: 240 with model LastValueNaive in generation 4 of 5\n",
      "Model Number: 241 with model LastValueNaive in generation 4 of 5\n",
      "Model Number: 242 with model GLS in generation 4 of 5\n",
      "Model Number: 243 with model GLS in generation 4 of 5\n",
      "Model Number: 244 with model GLS in generation 4 of 5\n",
      "Model Number: 245 with model GLM in generation 4 of 5\n",
      "Template Eval Error: ValueError('NaN, inf or invalid value detected in weights, estimation infeasible.') in model 245: GLM\n",
      "Model Number: 246 with model GLM in generation 4 of 5\n",
      "Model Number: 247 with model GLM in generation 4 of 5\n",
      "Model Number: 248 with model GLM in generation 4 of 5\n"
     ]
    },
    {
     "name": "stderr",
     "output_type": "stream",
     "text": [
      "C:\\ProgramData\\Anaconda3\\lib\\site-packages\\statsmodels\\genmod\\families\\family.py:428: RuntimeWarning: divide by zero encountered in true_divide\n",
      "  endog_mu = self._clean(endog / mu)\n",
      "C:\\ProgramData\\Anaconda3\\lib\\site-packages\\statsmodels\\genmod\\families\\family.py:134: RuntimeWarning: divide by zero encountered in true_divide\n",
      "  return 1. / (self.link.deriv(mu)**2 * self.variance(mu))\n",
      "C:\\ProgramData\\Anaconda3\\lib\\site-packages\\statsmodels\\genmod\\families\\links.py:517: RuntimeWarning: overflow encountered in exp\n",
      "  return np.exp(z)\n",
      "C:\\ProgramData\\Anaconda3\\lib\\site-packages\\statsmodels\\genmod\\families\\family.py:134: RuntimeWarning: invalid value encountered in multiply\n",
      "  return 1. / (self.link.deriv(mu)**2 * self.variance(mu))\n",
      "C:\\ProgramData\\Anaconda3\\lib\\site-packages\\statsmodels\\genmod\\generalized_linear_model.py:1198: RuntimeWarning: invalid value encountered in multiply\n",
      "  wlsendog = (lin_pred + self.family.link.deriv(mu) * (self.endog-mu)\n",
      "C:\\ProgramData\\Anaconda3\\lib\\site-packages\\autots\\models\\statsmodels.py:511: FutureWarning: the 'damped'' keyword is deprecated, use 'damped_trend' instead\n",
      "  esModel = ExponentialSmoothing(\n",
      "C:\\ProgramData\\Anaconda3\\lib\\site-packages\\statsmodels\\tsa\\holtwinters\\model.py:427: FutureWarning: After 0.13 initialization must be handled at model creation\n",
      "  warnings.warn(\n",
      "C:\\ProgramData\\Anaconda3\\lib\\site-packages\\statsmodels\\tsa\\holtwinters\\model.py:427: FutureWarning: After 0.13 initialization must be handled at model creation\n",
      "  warnings.warn(\n"
     ]
    },
    {
     "name": "stdout",
     "output_type": "stream",
     "text": [
      "Template Eval Error: ValueError('NaN, inf or invalid value detected in weights, estimation infeasible.') in model 248: GLM\n",
      "Model Number: 249 with model ETS in generation 4 of 5\n",
      "Model Number: 250 with model ETS in generation 4 of 5\n",
      "Model Number: 251 with model ETS in generation 4 of 5\n",
      "Model Number: 252 with model ETS in generation 4 of 5\n",
      "Model Number: 253 with model DatepartRegression in generation 4 of 5\n",
      "Model Number: 254 with model DatepartRegression in generation 4 of 5\n"
     ]
    },
    {
     "name": "stderr",
     "output_type": "stream",
     "text": [
      "C:\\ProgramData\\Anaconda3\\lib\\site-packages\\statsmodels\\tsa\\holtwinters\\model.py:427: FutureWarning: After 0.13 initialization must be handled at model creation\n",
      "  warnings.warn(\n"
     ]
    },
    {
     "name": "stdout",
     "output_type": "stream",
     "text": [
      "Model Number: 255 with model DatepartRegression in generation 4 of 5\n",
      "Model Number: 256 with model WindowRegression in generation 4 of 5\n",
      "Template Eval Error: ModuleNotFoundError(\"No module named 'lightgbm'\") in model 256: WindowRegression\n",
      "Model Number: 257 with model WindowRegression in generation 4 of 5\n",
      "Template Eval Error: ModuleNotFoundError(\"No module named 'lightgbm'\") in model 257: WindowRegression\n",
      "Model Number: 258 with model WindowRegression in generation 4 of 5\n",
      "Template Eval Error: ValueError(\"Input contains NaN, infinity or a value too large for dtype('float64').\") in model 258: WindowRegression\n",
      "Model Number: 259 with model WindowRegression in generation 4 of 5\n"
     ]
    },
    {
     "name": "stderr",
     "output_type": "stream",
     "text": [
      "C:\\ProgramData\\Anaconda3\\lib\\site-packages\\sklearn\\neural_network\\_multilayer_perceptron.py:500: ConvergenceWarning: lbfgs failed to converge (status=1):\n",
      "STOP: TOTAL NO. of ITERATIONS REACHED LIMIT.\n",
      "\n",
      "Increase the number of iterations (max_iter) or scale the data as shown in:\n",
      "    https://scikit-learn.org/stable/modules/preprocessing.html\n",
      "  self.n_iter_ = _check_optimize_result(\"lbfgs\", opt_res, self.max_iter)\n"
     ]
    },
    {
     "name": "stdout",
     "output_type": "stream",
     "text": [
      "Model Number: 260 with model UnobservedComponents in generation 4 of 5\n",
      "Model Number: 261 with model UnobservedComponents in generation 4 of 5\n",
      "Model Number: 262 with model UnobservedComponents in generation 4 of 5\n",
      "Model Number: 263 with model SeasonalNaive in generation 4 of 5\n",
      "Model Number: 264 with model SeasonalNaive in generation 4 of 5\n",
      "Model Number: 265 with model SeasonalNaive in generation 4 of 5\n",
      "Model Number: 266 with model SeasonalNaive in generation 4 of 5\n",
      "Model Number: 267 with model RollingRegression in generation 4 of 5\n"
     ]
    },
    {
     "name": "stderr",
     "output_type": "stream",
     "text": [
      "C:\\ProgramData\\Anaconda3\\lib\\site-packages\\sklearn\\utils\\validation.py:63: DataConversionWarning: A column-vector y was passed when a 1d array was expected. Please change the shape of y to (n_samples, ), for example using ravel().\n",
      "  return f(*args, **kwargs)\n"
     ]
    },
    {
     "name": "stdout",
     "output_type": "stream",
     "text": [
      "Model Number: 268 with model RollingRegression in generation 4 of 5\n",
      "Model Number: 269 with model RollingRegression in generation 4 of 5\n",
      "Model Number: 270 with model RollingRegression in generation 4 of 5\n",
      "Model Number: 271 with model GluonTS in generation 4 of 5\n",
      "Template Eval Error: ImportError('GluonTS installation not found or installed version is incompatible with AutoTS.') in model 271: GluonTS\n",
      "Model Number: 272 with model GluonTS in generation 4 of 5\n",
      "Template Eval Error: ImportError('GluonTS installation not found or installed version is incompatible with AutoTS.') in model 272: GluonTS\n",
      "Model Number: 273 with model GluonTS in generation 4 of 5\n",
      "Template Eval Error: ImportError('GluonTS installation not found or installed version is incompatible with AutoTS.') in model 273: GluonTS\n",
      "Model Number: 274 with model GluonTS in generation 4 of 5\n",
      "Template Eval Error: ImportError('GluonTS installation not found or installed version is incompatible with AutoTS.') in model 274: GluonTS\n",
      "Model Number: 275 with model VAR in generation 4 of 5\n",
      "Template Eval Error: ValueError('Only gave one variable to VAR') in model 275: VAR\n",
      "Model Number: 276 with model VAR in generation 4 of 5\n",
      "Template Eval Error: ValueError('Only gave one variable to VAR') in model 276: VAR\n",
      "Model Number: 277 with model VAR in generation 4 of 5\n",
      "Template Eval Error: ValueError('Only gave one variable to VAR') in model 277: VAR\n",
      "Model Number: 278 with model VAR in generation 4 of 5\n",
      "Template Eval Error: ValueError('Only gave one variable to VAR') in model 278: VAR\n",
      "Model Number: 279 with model VECM in generation 4 of 5\n",
      "Template Eval Error: ValueError('Unable to coerce to Series, length must be 1: given 190') in model 279: VECM\n",
      "Model Number: 280 with model VECM in generation 4 of 5\n",
      "Template Eval Error: ValueError('Unable to coerce to Series, length must be 1: given 190') in model 280: VECM\n",
      "Model Number: 281 with model VECM in generation 4 of 5\n",
      "Template Eval Error: ValueError('Unable to coerce to Series, length must be 1: given 190') in model 281: VECM\n",
      "Model Number: 282 with model VECM in generation 4 of 5\n",
      "Template Eval Error: LinAlgError('SVD did not converge') in model 282: VECM\n",
      "Model Number: 283 with model FBProphet in generation 4 of 5\n",
      "Template Eval Error: ValueError('Unable to coerce to Series, length must be 1: given 190') in model 283: FBProphet\n",
      "Model Number: 284 with model FBProphet in generation 4 of 5\n",
      "Template Eval Error: ImportError('Package fbprophet is required') in model 284: FBProphet\n",
      "Model Number: 285 with model FBProphet in generation 4 of 5\n",
      "Template Eval Error: ImportError('Package fbprophet is required') in model 285: FBProphet\n",
      "Model Number: 286 with model FBProphet in generation 4 of 5\n",
      "Template Eval Error: ImportError('Package fbprophet is required') in model 286: FBProphet\n",
      "New Generation: 5 of 5\n"
     ]
    },
    {
     "name": "stderr",
     "output_type": "stream",
     "text": [
      "C:\\ProgramData\\Anaconda3\\lib\\site-packages\\autots\\models\\sklearn.py:429: VisibleDeprecationWarning: Creating an ndarray from ragged nested sequences (which is a list-or-tuple of lists-or-tuples-or ndarrays with different lengths or shapes) is deprecated. If you meant to do this, you must specify 'dtype=object' when creating the ndarray.\n",
      "  \"hidden_layer_sizes\": np.random.choice(\n",
      "C:\\ProgramData\\Anaconda3\\lib\\site-packages\\autots\\models\\sklearn.py:366: VisibleDeprecationWarning: Creating an ndarray from ragged nested sequences (which is a list-or-tuple of lists-or-tuples-or ndarrays with different lengths or shapes) is deprecated. If you meant to do this, you must specify 'dtype=object' when creating the ndarray.\n",
      "  \"hidden_layer_sizes\": np.random.choice(\n"
     ]
    },
    {
     "name": "stdout",
     "output_type": "stream",
     "text": [
      "Model Number: 287 with model AverageValueNaive in generation 5 of 5\n",
      "Model Number: 288 with model AverageValueNaive in generation 5 of 5\n",
      "Model Number: 289 with model AverageValueNaive in generation 5 of 5\n",
      "Model Number: 290 with model DatepartRegression in generation 5 of 5\n",
      "Template Eval Error: ImportError('Tensorflow not available, install with pip install tensorflow.') in model 290: DatepartRegression\n",
      "Model Number: 291 with model DatepartRegression in generation 5 of 5\n",
      "Model Number: 292 with model DatepartRegression in generation 5 of 5\n"
     ]
    },
    {
     "name": "stderr",
     "output_type": "stream",
     "text": [
      "C:\\ProgramData\\Anaconda3\\lib\\site-packages\\sklearn\\utils\\validation.py:63: DataConversionWarning: A column-vector y was passed when a 1d array was expected. Please change the shape of y to (n_samples, ), for example using ravel().\n",
      "  return f(*args, **kwargs)\n",
      "C:\\ProgramData\\Anaconda3\\lib\\site-packages\\sklearn\\neural_network\\_multilayer_perceptron.py:614: ConvergenceWarning: Stochastic Optimizer: Maximum iterations (250) reached and the optimization hasn't converged yet.\n",
      "  warnings.warn(\n"
     ]
    },
    {
     "name": "stdout",
     "output_type": "stream",
     "text": [
      "Model Number: 293 with model ZeroesNaive in generation 5 of 5\n",
      "Template Eval Error: ValueError('Unable to coerce to Series, length must be 1: given 190') in model 293: ZeroesNaive\n",
      "Model Number: 294 with model ZeroesNaive in generation 5 of 5\n",
      "Model Number: 295 with model LastValueNaive in generation 5 of 5\n",
      "Model Number: 296 with model LastValueNaive in generation 5 of 5\n",
      "Model Number: 297 with model LastValueNaive in generation 5 of 5\n",
      "Model Number: 298 with model GLS in generation 5 of 5\n",
      "Model Number: 299 with model GLS in generation 5 of 5\n",
      "Model Number: 300 with model GLS in generation 5 of 5\n",
      "Template Eval Error: ValueError('Unable to coerce to Series, length must be 1: given 190') in model 300: GLS\n",
      "Model Number: 301 with model GLM in generation 5 of 5\n",
      "Model Number: 302 with model GLM in generation 5 of 5\n",
      "Model Number: 303 with model GLM in generation 5 of 5\n"
     ]
    },
    {
     "name": "stderr",
     "output_type": "stream",
     "text": [
      "C:\\ProgramData\\Anaconda3\\lib\\site-packages\\statsmodels\\genmod\\families\\family.py:1227: RuntimeWarning: divide by zero encountered in true_divide\n",
      "  endog_mu = self._clean(endog / mu)\n"
     ]
    },
    {
     "name": "stdout",
     "output_type": "stream",
     "text": [
      "Model Number: 304 with model GLM in generation 5 of 5\n",
      "Model Number: 305 with model ETS in generation 5 of 5\n",
      "Model Number: 306 with model ETS in generation 5 of 5\n"
     ]
    },
    {
     "name": "stderr",
     "output_type": "stream",
     "text": [
      "C:\\ProgramData\\Anaconda3\\lib\\site-packages\\statsmodels\\tsa\\holtwinters\\model.py:427: FutureWarning: After 0.13 initialization must be handled at model creation\n",
      "  warnings.warn(\n",
      "C:\\ProgramData\\Anaconda3\\lib\\site-packages\\statsmodels\\tsa\\holtwinters\\model.py:427: FutureWarning: After 0.13 initialization must be handled at model creation\n",
      "  warnings.warn(\n",
      "C:\\ProgramData\\Anaconda3\\lib\\site-packages\\statsmodels\\tsa\\holtwinters\\model.py:427: FutureWarning: After 0.13 initialization must be handled at model creation\n",
      "  warnings.warn(\n"
     ]
    },
    {
     "name": "stdout",
     "output_type": "stream",
     "text": [
      "Model Number: 307 with model ETS in generation 5 of 5\n",
      "Model Number: 308 with model ETS in generation 5 of 5\n",
      "Model Number: 309 with model UnobservedComponents in generation 5 of 5\n"
     ]
    },
    {
     "name": "stderr",
     "output_type": "stream",
     "text": [
      "C:\\ProgramData\\Anaconda3\\lib\\site-packages\\statsmodels\\tsa\\holtwinters\\model.py:427: FutureWarning: After 0.13 initialization must be handled at model creation\n",
      "  warnings.warn(\n"
     ]
    },
    {
     "name": "stdout",
     "output_type": "stream",
     "text": [
      "Model Number: 310 with model UnobservedComponents in generation 5 of 5\n",
      "Model Number: 311 with model UnobservedComponents in generation 5 of 5\n",
      "Model Number: 312 with model WindowRegression in generation 5 of 5\n",
      "Template Eval Error: ModuleNotFoundError(\"No module named 'lightgbm'\") in model 312: WindowRegression\n",
      "Model Number: 313 with model WindowRegression in generation 5 of 5\n"
     ]
    },
    {
     "name": "stderr",
     "output_type": "stream",
     "text": [
      "C:\\ProgramData\\Anaconda3\\lib\\site-packages\\sklearn\\utils\\validation.py:63: DataConversionWarning: A column-vector y was passed when a 1d array was expected. Please change the shape of y to (n_samples, ), for example using ravel().\n",
      "  return f(*args, **kwargs)\n"
     ]
    },
    {
     "name": "stdout",
     "output_type": "stream",
     "text": [
      "Model Number: 314 with model WindowRegression in generation 5 of 5\n",
      "Template Eval Error: ValueError('Unable to coerce to Series, length must be 1: given 190') in model 314: WindowRegression\n",
      "Model Number: 315 with model WindowRegression in generation 5 of 5\n",
      "Template Eval Error: ModuleNotFoundError(\"No module named 'lightgbm'\") in model 315: WindowRegression\n",
      "Model Number: 316 with model SeasonalNaive in generation 5 of 5\n",
      "Model Number: 317 with model SeasonalNaive in generation 5 of 5\n",
      "Model Number: 318 with model SeasonalNaive in generation 5 of 5\n",
      "Model Number: 319 with model SeasonalNaive in generation 5 of 5\n",
      "Model Number: 320 with model RollingRegression in generation 5 of 5\n",
      "Model Number: 321 with model RollingRegression in generation 5 of 5\n",
      "Model Number: 322 with model RollingRegression in generation 5 of 5\n",
      "Model Number: 323 with model RollingRegression in generation 5 of 5\n",
      "Model Number: 324 with model GluonTS in generation 5 of 5\n",
      "Template Eval Error: ImportError('GluonTS installation not found or installed version is incompatible with AutoTS.') in model 324: GluonTS\n",
      "Model Number: 325 with model GluonTS in generation 5 of 5\n",
      "Template Eval Error: ValueError('Unable to coerce to Series, length must be 1: given 190') in model 325: GluonTS\n",
      "Model Number: 326 with model GluonTS in generation 5 of 5\n",
      "Template Eval Error: ImportError('GluonTS installation not found or installed version is incompatible with AutoTS.') in model 326: GluonTS\n",
      "Model Number: 327 with model GluonTS in generation 5 of 5\n",
      "Template Eval Error: ImportError('GluonTS installation not found or installed version is incompatible with AutoTS.') in model 327: GluonTS\n",
      "Model Number: 328 with model VAR in generation 5 of 5\n",
      "Template Eval Error: ValueError('Only gave one variable to VAR') in model 328: VAR\n",
      "Model Number: 329 with model VAR in generation 5 of 5\n",
      "Template Eval Error: ValueError('Only gave one variable to VAR') in model 329: VAR\n",
      "Model Number: 330 with model VAR in generation 5 of 5\n",
      "Template Eval Error: ValueError('Only gave one variable to VAR') in model 330: VAR\n",
      "Model Number: 331 with model VAR in generation 5 of 5\n",
      "Template Eval Error: ValueError('Only gave one variable to VAR') in model 331: VAR\n",
      "Model Number: 332 with model VECM in generation 5 of 5\n",
      "Template Eval Error: ValueError('Unable to coerce to Series, length must be 1: given 190') in model 332: VECM\n",
      "Model Number: 333 with model VECM in generation 5 of 5\n",
      "Template Eval Error: ValueError('Only gave one variable to VECM') in model 333: VECM\n",
      "Model Number: 334 with model VECM in generation 5 of 5\n",
      "Template Eval Error: ValueError('Only gave one variable to VECM') in model 334: VECM\n",
      "Model Number: 335 with model VECM in generation 5 of 5\n",
      "Template Eval Error: ValueError('Only gave one variable to VECM') in model 335: VECM\n",
      "Model Number: 336 with model FBProphet in generation 5 of 5\n",
      "Template Eval Error: ImportError('Package fbprophet is required') in model 336: FBProphet\n",
      "Model Number: 337 with model FBProphet in generation 5 of 5\n",
      "Template Eval Error: ImportError('Package fbprophet is required') in model 337: FBProphet\n",
      "Model Number: 338 with model FBProphet in generation 5 of 5\n",
      "Template Eval Error: ImportError('Package fbprophet is required') in model 338: FBProphet\n",
      "Model Number: 339 with model FBProphet in generation 5 of 5\n",
      "Template Eval Error: ImportError('Package fbprophet is required') in model 339: FBProphet\n",
      "Model Number: 340 with model Ensemble in generation 0 of 0\n",
      "Model Number: 341 with model Ensemble in generation 0 of 0\n",
      "Model Number: 342 with model Ensemble in generation 0 of 0\n",
      "Validation Round: 1\n",
      "Model Number: 1 of 52 with model Ensemble for Validation 1\n",
      "Model Number: 2 of 52 with model AverageValueNaive for Validation 1\n",
      "Model Number: 3 of 52 with model Ensemble for Validation 1\n",
      "Model Number: 4 of 52 with model Ensemble for Validation 1\n",
      "Model Number: 5 of 52 with model DatepartRegression for Validation 1\n",
      "Model Number: 6 of 52 with model ZeroesNaive for Validation 1\n",
      "Model Number: 7 of 52 with model LastValueNaive for Validation 1\n",
      "Model Number: 8 of 52 with model AverageValueNaive for Validation 1\n",
      "Model Number: 9 of 52 with model GLM for Validation 1\n",
      "Model Number: 10 of 52 with model GLS for Validation 1\n",
      "Model Number: 11 of 52 with model GLS for Validation 1\n",
      "Model Number: 12 of 52 with model AverageValueNaive for Validation 1\n",
      "Model Number: 13 of 52 with model AverageValueNaive for Validation 1\n",
      "Model Number: 14 of 52 with model GLM for Validation 1\n",
      "Model Number: 15 of 52 with model SeasonalNaive for Validation 1\n",
      "Model Number: 16 of 52 with model ETS for Validation 1\n",
      "Model Number: 17 of 52 with model DatepartRegression for Validation 1\n"
     ]
    },
    {
     "name": "stderr",
     "output_type": "stream",
     "text": [
      "C:\\ProgramData\\Anaconda3\\lib\\site-packages\\statsmodels\\tsa\\holtwinters\\model.py:427: FutureWarning: After 0.13 initialization must be handled at model creation\n",
      "  warnings.warn(\n",
      "C:\\ProgramData\\Anaconda3\\lib\\site-packages\\autots\\models\\sklearn.py:1499: DataConversionWarning: A column-vector y was passed when a 1d array was expected. Please change the shape of y to (n_samples,), for example using ravel().\n",
      "  self.model = self.model.fit(X, y)\n",
      "[Parallel(n_jobs=1)]: Using backend SequentialBackend with 1 concurrent workers.\n",
      "[Parallel(n_jobs=1)]: Done 1000 out of 1000 | elapsed:    0.4s finished\n",
      "[Parallel(n_jobs=1)]: Using backend SequentialBackend with 1 concurrent workers.\n",
      "[Parallel(n_jobs=1)]: Done 1000 out of 1000 | elapsed:    0.0s finished\n",
      "C:\\ProgramData\\Anaconda3\\lib\\site-packages\\statsmodels\\genmod\\families\\family.py:428: RuntimeWarning: divide by zero encountered in true_divide\n",
      "  endog_mu = self._clean(endog / mu)\n",
      "C:\\ProgramData\\Anaconda3\\lib\\site-packages\\statsmodels\\genmod\\families\\family.py:134: RuntimeWarning: divide by zero encountered in true_divide\n",
      "  return 1. / (self.link.deriv(mu)**2 * self.variance(mu))\n",
      "C:\\ProgramData\\Anaconda3\\lib\\site-packages\\autots\\models\\sklearn.py:1499: DataConversionWarning: A column-vector y was passed when a 1d array was expected. Please change the shape of y to (n_samples,), for example using ravel().\n",
      "  self.model = self.model.fit(X, y)\n"
     ]
    },
    {
     "name": "stdout",
     "output_type": "stream",
     "text": [
      "Model Number: 18 of 52 with model GLM for Validation 1\n",
      "Template Eval Error: ValueError('NaN, inf or invalid value detected in weights, estimation infeasible.') in model 18: GLM\n",
      "Model Number: 19 of 52 with model DatepartRegression for Validation 1\n"
     ]
    },
    {
     "name": "stderr",
     "output_type": "stream",
     "text": [
      "[Parallel(n_jobs=1)]: Using backend SequentialBackend with 1 concurrent workers.\n",
      "[Parallel(n_jobs=1)]: Done 1000 out of 1000 | elapsed:    0.4s finished\n",
      "[Parallel(n_jobs=1)]: Using backend SequentialBackend with 1 concurrent workers.\n",
      "[Parallel(n_jobs=1)]: Done 1000 out of 1000 | elapsed:    0.0s finished\n"
     ]
    },
    {
     "name": "stdout",
     "output_type": "stream",
     "text": [
      "Model Number: 20 of 52 with model SeasonalNaive for Validation 1\n",
      "Model Number: 21 of 52 with model UnobservedComponents for Validation 1\n",
      "Model Number: 22 of 52 with model GLS for Validation 1\n",
      "Model Number: 23 of 52 with model WindowRegression for Validation 1\n"
     ]
    },
    {
     "name": "stderr",
     "output_type": "stream",
     "text": [
      "C:\\ProgramData\\Anaconda3\\lib\\site-packages\\sklearn\\neural_network\\_multilayer_perceptron.py:500: ConvergenceWarning: lbfgs failed to converge (status=1):\n",
      "STOP: TOTAL NO. of ITERATIONS REACHED LIMIT.\n",
      "\n",
      "Increase the number of iterations (max_iter) or scale the data as shown in:\n",
      "    https://scikit-learn.org/stable/modules/preprocessing.html\n",
      "  self.n_iter_ = _check_optimize_result(\"lbfgs\", opt_res, self.max_iter)\n",
      "C:\\ProgramData\\Anaconda3\\lib\\site-packages\\statsmodels\\tsa\\holtwinters\\model.py:427: FutureWarning: After 0.13 initialization must be handled at model creation\n",
      "  warnings.warn(\n"
     ]
    },
    {
     "name": "stdout",
     "output_type": "stream",
     "text": [
      "Model Number: 24 of 52 with model UnobservedComponents for Validation 1\n",
      "Model Number: 25 of 52 with model LastValueNaive for Validation 1\n",
      "Model Number: 26 of 52 with model LastValueNaive for Validation 1\n",
      "Model Number: 27 of 52 with model LastValueNaive for Validation 1\n",
      "Model Number: 28 of 52 with model LastValueNaive for Validation 1\n",
      "Model Number: 29 of 52 with model ETS for Validation 1\n",
      "Model Number: 30 of 52 with model GLS for Validation 1\n",
      "Model Number: 31 of 52 with model ETS for Validation 1\n"
     ]
    },
    {
     "name": "stderr",
     "output_type": "stream",
     "text": [
      "C:\\ProgramData\\Anaconda3\\lib\\site-packages\\statsmodels\\tsa\\holtwinters\\model.py:427: FutureWarning: After 0.13 initialization must be handled at model creation\n",
      "  warnings.warn(\n",
      "C:\\ProgramData\\Anaconda3\\lib\\site-packages\\statsmodels\\tsa\\holtwinters\\model.py:427: FutureWarning: After 0.13 initialization must be handled at model creation\n",
      "  warnings.warn(\n",
      "C:\\ProgramData\\Anaconda3\\lib\\site-packages\\statsmodels\\tsa\\holtwinters\\model.py:1439: RuntimeWarning: divide by zero encountered in log\n",
      "  aic = self.nobs * np.log(sse / self.nobs) + k * 2\n",
      "C:\\ProgramData\\Anaconda3\\lib\\site-packages\\statsmodels\\tsa\\holtwinters\\model.py:1445: RuntimeWarning: divide by zero encountered in log\n",
      "  bic = self.nobs * np.log(sse / self.nobs) + k * np.log(self.nobs)\n",
      "C:\\ProgramData\\Anaconda3\\lib\\site-packages\\statsmodels\\tsa\\holtwinters\\model.py:427: FutureWarning: After 0.13 initialization must be handled at model creation\n",
      "  warnings.warn(\n"
     ]
    },
    {
     "name": "stdout",
     "output_type": "stream",
     "text": [
      "Model Number: 32 of 52 with model ETS for Validation 1\n",
      "Model Number: 33 of 52 with model ETS for Validation 1\n",
      "Model Number: 34 of 52 with model WindowRegression for Validation 1\n",
      "Model Number: 35 of 52 with model AverageValueNaive for Validation 1\n",
      "Model Number: 36 of 52 with model SeasonalNaive for Validation 1\n",
      "Model Number: 37 of 52 with model SeasonalNaive for Validation 1\n",
      "Model Number: 38 of 52 with model DatepartRegression for Validation 1\n",
      "Model Number: 39 of 52 with model WindowRegression for Validation 1\n"
     ]
    },
    {
     "name": "stderr",
     "output_type": "stream",
     "text": [
      "C:\\ProgramData\\Anaconda3\\lib\\site-packages\\sklearn\\neural_network\\_multilayer_perceptron.py:500: ConvergenceWarning: lbfgs failed to converge (status=1):\n",
      "STOP: TOTAL NO. of ITERATIONS REACHED LIMIT.\n",
      "\n",
      "Increase the number of iterations (max_iter) or scale the data as shown in:\n",
      "    https://scikit-learn.org/stable/modules/preprocessing.html\n",
      "  self.n_iter_ = _check_optimize_result(\"lbfgs\", opt_res, self.max_iter)\n"
     ]
    },
    {
     "name": "stdout",
     "output_type": "stream",
     "text": [
      "Model Number: 40 of 52 with model SeasonalNaive for Validation 1\n",
      "Model Number: 41 of 52 with model WindowRegression for Validation 1\n"
     ]
    },
    {
     "name": "stderr",
     "output_type": "stream",
     "text": [
      "C:\\ProgramData\\Anaconda3\\lib\\site-packages\\sklearn\\neural_network\\_multilayer_perceptron.py:500: ConvergenceWarning: lbfgs failed to converge (status=1):\n",
      "STOP: TOTAL NO. of ITERATIONS REACHED LIMIT.\n",
      "\n",
      "Increase the number of iterations (max_iter) or scale the data as shown in:\n",
      "    https://scikit-learn.org/stable/modules/preprocessing.html\n",
      "  self.n_iter_ = _check_optimize_result(\"lbfgs\", opt_res, self.max_iter)\n",
      "C:\\ProgramData\\Anaconda3\\lib\\site-packages\\statsmodels\\genmod\\families\\links.py:517: RuntimeWarning: overflow encountered in exp\n",
      "  return np.exp(z)\n",
      "C:\\ProgramData\\Anaconda3\\lib\\site-packages\\statsmodels\\genmod\\families\\family.py:134: RuntimeWarning: invalid value encountered in multiply\n",
      "  return 1. / (self.link.deriv(mu)**2 * self.variance(mu))\n",
      "C:\\ProgramData\\Anaconda3\\lib\\site-packages\\statsmodels\\genmod\\generalized_linear_model.py:1198: RuntimeWarning: invalid value encountered in multiply\n",
      "  wlsendog = (lin_pred + self.family.link.deriv(mu) * (self.endog-mu)\n"
     ]
    },
    {
     "name": "stdout",
     "output_type": "stream",
     "text": [
      "Model Number: 42 of 52 with model GLM for Validation 1\n",
      "Template Eval Error: ValueError('NaN, inf or invalid value detected in weights, estimation infeasible.') in model 42: GLM\n",
      "Model Number: 43 of 52 with model ZeroesNaive for Validation 1\n",
      "Model Number: 44 of 52 with model ZeroesNaive for Validation 1\n",
      "Model Number: 45 of 52 with model RollingRegression for Validation 1\n",
      "Model Number: 46 of 52 with model UnobservedComponents for Validation 1\n",
      "Model Number: 47 of 52 with model RollingRegression for Validation 1\n",
      "Template Eval Error: ValueError('No feature in X meets the variance threshold 0.00000') in model 47: RollingRegression\n",
      "Model Number: 48 of 52 with model ZeroesNaive for Validation 1\n",
      "Model Number: 49 of 52 with model DatepartRegression for Validation 1\n",
      "Model Number: 50 of 52 with model RollingRegression for Validation 1\n",
      "Model Number: 51 of 52 with model RollingRegression for Validation 1\n",
      "Model Number: 52 of 52 with model ZeroesNaive for Validation 1\n",
      "Validation Round: 2\n",
      "Model Number: 1 of 52 with model Ensemble for Validation 2\n",
      "Model Number: 2 of 52 with model AverageValueNaive for Validation 2\n",
      "Model Number: 3 of 52 with model Ensemble for Validation 2\n",
      "Model Number: 4 of 52 with model Ensemble for Validation 2\n",
      "Model Number: 5 of 52 with model DatepartRegression for Validation 2\n",
      "Model Number: 6 of 52 with model ZeroesNaive for Validation 2\n",
      "Model Number: 7 of 52 with model LastValueNaive for Validation 2\n",
      "Model Number: 8 of 52 with model AverageValueNaive for Validation 2\n",
      "Model Number: 9 of 52 with model GLM for Validation 2\n"
     ]
    },
    {
     "name": "stderr",
     "output_type": "stream",
     "text": [
      "C:\\ProgramData\\Anaconda3\\lib\\site-packages\\statsmodels\\genmod\\families\\family.py:1227: RuntimeWarning: divide by zero encountered in true_divide\n",
      "  endog_mu = self._clean(endog / mu)\n"
     ]
    },
    {
     "name": "stdout",
     "output_type": "stream",
     "text": [
      "Model Number: 10 of 52 with model GLS for Validation 2\n",
      "Model Number: 11 of 52 with model GLS for Validation 2\n",
      "Model Number: 12 of 52 with model AverageValueNaive for Validation 2\n",
      "Model Number: 13 of 52 with model AverageValueNaive for Validation 2\n",
      "Model Number: 14 of 52 with model GLM for Validation 2\n"
     ]
    },
    {
     "name": "stderr",
     "output_type": "stream",
     "text": [
      "C:\\ProgramData\\Anaconda3\\lib\\site-packages\\statsmodels\\genmod\\families\\links.py:188: RuntimeWarning: overflow encountered in exp\n",
      "  t = np.exp(-z)\n",
      "C:\\ProgramData\\Anaconda3\\lib\\site-packages\\statsmodels\\tsa\\holtwinters\\model.py:427: FutureWarning: After 0.13 initialization must be handled at model creation\n",
      "  warnings.warn(\n"
     ]
    },
    {
     "name": "stdout",
     "output_type": "stream",
     "text": [
      "Model Number: 15 of 52 with model SeasonalNaive for Validation 2\n",
      "Model Number: 16 of 52 with model ETS for Validation 2\n",
      "Model Number: 17 of 52 with model DatepartRegression for Validation 2\n"
     ]
    },
    {
     "name": "stderr",
     "output_type": "stream",
     "text": [
      "C:\\ProgramData\\Anaconda3\\lib\\site-packages\\autots\\models\\sklearn.py:1499: DataConversionWarning: A column-vector y was passed when a 1d array was expected. Please change the shape of y to (n_samples,), for example using ravel().\n",
      "  self.model = self.model.fit(X, y)\n",
      "[Parallel(n_jobs=1)]: Using backend SequentialBackend with 1 concurrent workers.\n",
      "[Parallel(n_jobs=1)]: Done 1000 out of 1000 | elapsed:    0.6s finished\n",
      "[Parallel(n_jobs=1)]: Using backend SequentialBackend with 1 concurrent workers.\n",
      "[Parallel(n_jobs=1)]: Done 1000 out of 1000 | elapsed:    0.0s finished\n"
     ]
    },
    {
     "name": "stdout",
     "output_type": "stream",
     "text": [
      "Model Number: 18 of 52 with model GLM for Validation 2\n",
      "Model Number: 19 of 52 with model DatepartRegression for Validation 2\n"
     ]
    },
    {
     "name": "stderr",
     "output_type": "stream",
     "text": [
      "C:\\ProgramData\\Anaconda3\\lib\\site-packages\\autots\\models\\sklearn.py:1499: DataConversionWarning: A column-vector y was passed when a 1d array was expected. Please change the shape of y to (n_samples,), for example using ravel().\n",
      "  self.model = self.model.fit(X, y)\n",
      "[Parallel(n_jobs=1)]: Using backend SequentialBackend with 1 concurrent workers.\n",
      "[Parallel(n_jobs=1)]: Done 1000 out of 1000 | elapsed:    0.7s finished\n",
      "[Parallel(n_jobs=1)]: Using backend SequentialBackend with 1 concurrent workers.\n",
      "[Parallel(n_jobs=1)]: Done 1000 out of 1000 | elapsed:    0.0s finished\n"
     ]
    },
    {
     "name": "stdout",
     "output_type": "stream",
     "text": [
      "Model Number: 20 of 52 with model SeasonalNaive for Validation 2\n",
      "Model Number: 21 of 52 with model UnobservedComponents for Validation 2\n",
      "Model Number: 22 of 52 with model GLS for Validation 2\n",
      "Model Number: 23 of 52 with model WindowRegression for Validation 2\n"
     ]
    },
    {
     "name": "stderr",
     "output_type": "stream",
     "text": [
      "C:\\ProgramData\\Anaconda3\\lib\\site-packages\\sklearn\\neural_network\\_multilayer_perceptron.py:500: ConvergenceWarning: lbfgs failed to converge (status=1):\n",
      "STOP: TOTAL NO. of ITERATIONS REACHED LIMIT.\n",
      "\n",
      "Increase the number of iterations (max_iter) or scale the data as shown in:\n",
      "    https://scikit-learn.org/stable/modules/preprocessing.html\n",
      "  self.n_iter_ = _check_optimize_result(\"lbfgs\", opt_res, self.max_iter)\n",
      "C:\\ProgramData\\Anaconda3\\lib\\site-packages\\statsmodels\\tsa\\holtwinters\\model.py:427: FutureWarning: After 0.13 initialization must be handled at model creation\n",
      "  warnings.warn(\n"
     ]
    },
    {
     "name": "stdout",
     "output_type": "stream",
     "text": [
      "Model Number: 24 of 52 with model UnobservedComponents for Validation 2\n",
      "Model Number: 25 of 52 with model LastValueNaive for Validation 2\n",
      "Model Number: 26 of 52 with model LastValueNaive for Validation 2\n",
      "Model Number: 27 of 52 with model LastValueNaive for Validation 2\n",
      "Model Number: 28 of 52 with model LastValueNaive for Validation 2\n",
      "Model Number: 29 of 52 with model ETS for Validation 2\n",
      "Model Number: 30 of 52 with model GLS for Validation 2\n",
      "Model Number: 31 of 52 with model ETS for Validation 2\n",
      "Model Number: 32 of 52 with model ETS for Validation 2\n",
      "Model Number: 33 of 52 with model ETS for Validation 2\n"
     ]
    },
    {
     "name": "stderr",
     "output_type": "stream",
     "text": [
      "C:\\ProgramData\\Anaconda3\\lib\\site-packages\\statsmodels\\tsa\\holtwinters\\model.py:427: FutureWarning: After 0.13 initialization must be handled at model creation\n",
      "  warnings.warn(\n",
      "C:\\ProgramData\\Anaconda3\\lib\\site-packages\\statsmodels\\tsa\\holtwinters\\model.py:427: FutureWarning: After 0.13 initialization must be handled at model creation\n",
      "  warnings.warn(\n",
      "C:\\ProgramData\\Anaconda3\\lib\\site-packages\\statsmodels\\tsa\\holtwinters\\model.py:1439: RuntimeWarning: divide by zero encountered in log\n",
      "  aic = self.nobs * np.log(sse / self.nobs) + k * 2\n",
      "C:\\ProgramData\\Anaconda3\\lib\\site-packages\\statsmodels\\tsa\\holtwinters\\model.py:1445: RuntimeWarning: divide by zero encountered in log\n",
      "  bic = self.nobs * np.log(sse / self.nobs) + k * np.log(self.nobs)\n",
      "C:\\ProgramData\\Anaconda3\\lib\\site-packages\\statsmodels\\tsa\\holtwinters\\model.py:427: FutureWarning: After 0.13 initialization must be handled at model creation\n",
      "  warnings.warn(\n"
     ]
    },
    {
     "name": "stdout",
     "output_type": "stream",
     "text": [
      "Model Number: 34 of 52 with model WindowRegression for Validation 2\n",
      "Model Number: 35 of 52 with model AverageValueNaive for Validation 2\n",
      "Model Number: 36 of 52 with model SeasonalNaive for Validation 2\n",
      "Model Number: 37 of 52 with model SeasonalNaive for Validation 2\n",
      "Model Number: 38 of 52 with model DatepartRegression for Validation 2\n",
      "Model Number: 39 of 52 with model WindowRegression for Validation 2\n"
     ]
    },
    {
     "name": "stderr",
     "output_type": "stream",
     "text": [
      "C:\\ProgramData\\Anaconda3\\lib\\site-packages\\sklearn\\neural_network\\_multilayer_perceptron.py:500: ConvergenceWarning: lbfgs failed to converge (status=1):\n",
      "STOP: TOTAL NO. of ITERATIONS REACHED LIMIT.\n",
      "\n",
      "Increase the number of iterations (max_iter) or scale the data as shown in:\n",
      "    https://scikit-learn.org/stable/modules/preprocessing.html\n",
      "  self.n_iter_ = _check_optimize_result(\"lbfgs\", opt_res, self.max_iter)\n"
     ]
    },
    {
     "name": "stdout",
     "output_type": "stream",
     "text": [
      "Model Number: 40 of 52 with model SeasonalNaive for Validation 2\n",
      "Model Number: 41 of 52 with model WindowRegression for Validation 2\n"
     ]
    },
    {
     "name": "stderr",
     "output_type": "stream",
     "text": [
      "C:\\ProgramData\\Anaconda3\\lib\\site-packages\\sklearn\\neural_network\\_multilayer_perceptron.py:500: ConvergenceWarning: lbfgs failed to converge (status=1):\n",
      "STOP: TOTAL NO. of ITERATIONS REACHED LIMIT.\n",
      "\n",
      "Increase the number of iterations (max_iter) or scale the data as shown in:\n",
      "    https://scikit-learn.org/stable/modules/preprocessing.html\n",
      "  self.n_iter_ = _check_optimize_result(\"lbfgs\", opt_res, self.max_iter)\n",
      "C:\\ProgramData\\Anaconda3\\lib\\site-packages\\statsmodels\\genmod\\families\\family.py:428: RuntimeWarning: divide by zero encountered in true_divide\n",
      "  endog_mu = self._clean(endog / mu)\n",
      "C:\\ProgramData\\Anaconda3\\lib\\site-packages\\statsmodels\\genmod\\families\\family.py:134: RuntimeWarning: divide by zero encountered in true_divide\n",
      "  return 1. / (self.link.deriv(mu)**2 * self.variance(mu))\n"
     ]
    },
    {
     "name": "stdout",
     "output_type": "stream",
     "text": [
      "Model Number: 42 of 52 with model GLM for Validation 2\n",
      "Template Eval Error: ValueError('NaN, inf or invalid value detected in weights, estimation infeasible.') in model 42: GLM\n",
      "Model Number: 43 of 52 with model ZeroesNaive for Validation 2\n",
      "Model Number: 44 of 52 with model ZeroesNaive for Validation 2\n",
      "Model Number: 45 of 52 with model RollingRegression for Validation 2\n",
      "Model Number: 46 of 52 with model UnobservedComponents for Validation 2\n",
      "Model Number: 47 of 52 with model RollingRegression for Validation 2\n",
      "Template Eval Error: ValueError('No feature in X meets the variance threshold 0.00000') in model 47: RollingRegression\n",
      "Model Number: 48 of 52 with model ZeroesNaive for Validation 2\n",
      "Model Number: 49 of 52 with model DatepartRegression for Validation 2\n",
      "Model Number: 50 of 52 with model RollingRegression for Validation 2\n",
      "Model Number: 51 of 52 with model RollingRegression for Validation 2\n",
      "Model Number: 52 of 52 with model ZeroesNaive for Validation 2\n",
      "DogeCoin Price Prediction\n",
      "               Close\n",
      "2021-06-17  0.345625\n",
      "2021-06-18  0.336093\n",
      "2021-06-19  0.319623\n",
      "2021-06-20  0.307651\n",
      "2021-06-21  0.304250\n",
      "2021-06-22  0.292058\n",
      "2021-06-23  0.288186\n",
      "2021-06-24  0.296495\n",
      "2021-06-25  0.324394\n",
      "2021-06-26  0.351910\n"
     ]
    }
   ],
   "source": [
    "from autots import AutoTS\n",
    "model = AutoTS(forecast_length=10, frequency='infer', ensemble='simple', drop_data_older_than_periods=200)\n",
    "model = model.fit(data, date_col='Date', value_col='Close', id_col=None)\n",
    "prediction = model.predict()\n",
    "forecast = prediction.forecast\n",
    "print(\"DogeCoin Price Prediction\")\n",
    "print(forecast)"
   ]
  }
 ],
 "metadata": {
  "kernelspec": {
   "display_name": "Python 3",
   "language": "python",
   "name": "python3"
  },
  "language_info": {
   "codemirror_mode": {
    "name": "ipython",
    "version": 3
   },
   "file_extension": ".py",
   "mimetype": "text/x-python",
   "name": "python",
   "nbconvert_exporter": "python",
   "pygments_lexer": "ipython3",
   "version": "3.8.8"
  }
 },
 "nbformat": 4,
 "nbformat_minor": 5
}
